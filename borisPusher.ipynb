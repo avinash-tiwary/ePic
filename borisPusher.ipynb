{
 "cells": [
  {
   "cell_type": "code",
   "execution_count": 1,
   "metadata": {},
   "outputs": [],
   "source": [
    "import numpy as np\n",
    "import matplotlib.pyplot as plt\n",
    "from scipy.optimize import fsolve\n",
    "import timeit"
   ]
  },
  {
   "cell_type": "code",
   "execution_count": 2,
   "metadata": {},
   "outputs": [],
   "source": [
    "# Boris-Method Particle push\n",
    "def BorisPush(initialPosition, initialVelocity, electricfield, magneticfield, chargeofparticle, massofparticle, numberOfitteration, timeofrun):\n",
    "\n",
    "    timeSteps = np.linspace(0, timeofrun, numberOfitteration)\n",
    "    dt = timeSteps[1] - timeSteps[0]\n",
    "\n",
    "    position = np.zeros([numberOfitteration, 3])\n",
    "    velocity = np.zeros([numberOfitteration, 3])\n",
    "    kinetic_energy = np.zeros(numberOfitteration)\n",
    "\n",
    "    position[0] = initialPosition\n",
    "    velocity[0] = initialVelocity\n",
    "\n",
    "    kinetic_energy[0] = np.linalg.norm(velocity[0])\n",
    "\n",
    "    t = (chargeofparticle*magneticfield/massofparticle)*dt/2\n",
    "    s = (2*t)/(1 + np.dot(t,t))\n",
    "\n",
    "    for i in range(numberOfitteration-1):\n",
    "        # Kick\n",
    "        position_half = position[i] + velocity[i]*dt/2\n",
    "\n",
    "        # Drift and rotation\n",
    "        v_minus = velocity[i] + (chargeofparticle*electricfield/massofparticle)*dt/2\n",
    "        v_prime = v_minus + np.cross(v_minus, t)\n",
    "        v_plus = v_minus + np.cross(v_prime, s)\n",
    "        velocity[i+1] = v_plus + (chargeofparticle*electricfield/massofparticle)*dt/2\n",
    "\n",
    "        # Kick\n",
    "        position[i+1] = position_half + velocity[i+1]*dt/2\n",
    "        kinetic_energy[i+1] = np.linalg.norm(velocity[i+1])\n",
    "\n",
    "    return position, velocity, kinetic_energy, timeSteps\n"
   ]
  },
  {
   "cell_type": "code",
   "execution_count": 3,
   "metadata": {},
   "outputs": [],
   "source": [
    "# EulerMethod for Particle push\n",
    "def EulerMethod(initialVelocity, electricfield, magneticfield, chargeofparticle, massofparticle, numberOfitteration, timeofrun):\n",
    "    timeSteps = np.linspace(0, timeofrun, numberOfitteration)\n",
    "    dt = timeSteps[1] - timeSteps[0]\n",
    "\n",
    "    position = np.zeros([numberOfitteration, 3])\n",
    "    velocity = np.zeros([numberOfitteration, 3])\n",
    "    kinetic_energy = np.zeros(numberOfitteration)\n",
    "\n",
    "    velocity[0] = initialVelocity\n",
    "    kinetic_energy[0] = np.linalg.norm(velocity[0])\n",
    "\n",
    "    for i in range(numberOfitteration-1):\n",
    "        velocity[i+1] = velocity[i] + (chargeofparticle/massofparticle)*(\n",
    "            electricfield + np.cross(velocity[i], magneticfield))*dt\n",
    "        position[i+1] = position[i] + velocity[i]*dt\n",
    "        kinetic_energy[i+1] = np.linalg.norm(velocity[i+1])\n",
    "    return position, velocity, kinetic_energy, timeSteps\n"
   ]
  },
  {
   "cell_type": "code",
   "execution_count": 4,
   "metadata": {},
   "outputs": [],
   "source": [
    "# Runge-Kutta-Method (4th order)\n",
    "def RungeKuttaMethod(initialVelocity, electricfield, magneticfield, chargeofparticle, massofparticle, numberOfitteration, timeofrun):\n",
    "    timeSteps = np.linspace(0, timeofrun, numberOfitteration)\n",
    "    dt = timeSteps[1] - timeSteps[0]\n",
    "\n",
    "    position = np.zeros([numberOfitteration, 3])\n",
    "    velocity = np.zeros([numberOfitteration, 3])\n",
    "    kinetic_energy = np.zeros(numberOfitteration)\n",
    "\n",
    "    velocity[0] = initialVelocity\n",
    "    kinetic_energy[0] = np.linalg.norm(velocity[0])\n",
    "\n",
    "    for i in range(numberOfitteration-1):\n",
    "        v1 = (chargeofparticle/massofparticle) * \\\n",
    "            (electricfield + np.cross(velocity[i], magneticfield))*dt\n",
    "        v2 = (chargeofparticle/massofparticle)*(electricfield +\n",
    "                                                np.cross(velocity[i]+v1/2, magneticfield))*dt\n",
    "        v3 = (chargeofparticle/massofparticle)*(electricfield +\n",
    "                                                np.cross(velocity[i]+v2/2, magneticfield))*dt\n",
    "        v4 = (chargeofparticle/massofparticle) * \\\n",
    "            (electricfield + np.cross(velocity[i]+v3, magneticfield))*dt\n",
    "        velocity[i+1] = velocity[i] + (1/6)*(v1 + 2*v2 + 2*v3 + v4)\n",
    "\n",
    "        p1 = velocity[i]*dt\n",
    "        p2 = (velocity[i] + p1/2)*dt\n",
    "        p3 = (velocity[i] + p2/2)*dt\n",
    "        p4 = (velocity[i] + p3)*dt\n",
    "        position[i+1] = position[i] + (1/6)*(p1 + 2*p2 + 2*p3 + p4)\n",
    "        kinetic_energy[i+1] = np.linalg.norm(velocity[i+1])\n",
    "\n",
    "    return position, velocity, kinetic_energy, timeSteps\n"
   ]
  },
  {
   "cell_type": "code",
   "execution_count": 5,
   "metadata": {},
   "outputs": [],
   "source": [
    "# Leap-Frog for Particle push\n",
    "def LeapFrog(initialVelocity, electricfield, magneticfield, chargeofparticle, massofparticle, numberOfitteration, timeofrun):\n",
    "    timeSteps = np.linspace(0, timeofrun, numberOfitteration)\n",
    "    dt = timeSteps[1] - timeSteps[0]\n",
    "\n",
    "    position = np.zeros([numberOfitteration, 3])\n",
    "    velocity = np.zeros([numberOfitteration, 3])\n",
    "    kinetic_energy = np.zeros(numberOfitteration)\n",
    "\n",
    "    velocity[0] = initialVelocity\n",
    "    kinetic_energy[0] = np.linalg.norm(velocity[0])\n",
    "\n",
    "    def residual(velocity, v_half, dt):\n",
    "        return velocity - v_half - 0.5 * (chargeofparticle/massofparticle)*(electricfield + np.cross(velocity, magneticfield))*dt\n",
    "\n",
    "    for i in range(numberOfitteration-1):\n",
    "        v_half = velocity[i] + 0.5 * (chargeofparticle/massofparticle)*(\n",
    "            electricfield + np.cross(velocity[i], magneticfield))*dt\n",
    "        position[i+1] = position[i] + v_half * dt\n",
    "\n",
    "        # sing Fsolve to get the roots of the equation\n",
    "        velocity[i + 1] = fsolve(residual, v_half, args=(v_half, dt))\n",
    "        kinetic_energy[i+1] = np.linalg.norm(velocity[i+1])\n",
    "\n",
    "    return position, velocity, kinetic_energy, timeSteps"
   ]
  },
  {
   "cell_type": "code",
   "execution_count": 6,
   "metadata": {},
   "outputs": [
    {
     "ename": "TypeError",
     "evalue": "BorisPush() missing 1 required positional argument: 'timeofrun'",
     "output_type": "error",
     "traceback": [
      "\u001b[0;31m---------------------------------------------------------------------------\u001b[0m",
      "\u001b[0;31mTypeError\u001b[0m                                 Traceback (most recent call last)",
      "\u001b[1;32m/home/avinash/Desktop/M.Sc Thesis/borisPusher.ipynb Cell 6\u001b[0m in \u001b[0;36m<cell line: 11>\u001b[0;34m()\u001b[0m\n\u001b[1;32m      <a href='vscode-notebook-cell:/home/avinash/Desktop/M.Sc%20Thesis/borisPusher.ipynb#W5sZmlsZQ%3D%3D?line=7'>8</a>\u001b[0m initialVelocity \u001b[39m=\u001b[39m np\u001b[39m.\u001b[39marray([\u001b[39m0\u001b[39m, \u001b[39m1\u001b[39m, \u001b[39m0\u001b[39m])\n\u001b[1;32m     <a href='vscode-notebook-cell:/home/avinash/Desktop/M.Sc%20Thesis/borisPusher.ipynb#W5sZmlsZQ%3D%3D?line=9'>10</a>\u001b[0m time1 \u001b[39m=\u001b[39m timeit\u001b[39m.\u001b[39mdefault_timer()\n\u001b[0;32m---> <a href='vscode-notebook-cell:/home/avinash/Desktop/M.Sc%20Thesis/borisPusher.ipynb#W5sZmlsZQ%3D%3D?line=10'>11</a>\u001b[0m position_B, velocity_B, kinetic_energy_B, timeSteps_B \u001b[39m=\u001b[39m BorisPush(\n\u001b[1;32m     <a href='vscode-notebook-cell:/home/avinash/Desktop/M.Sc%20Thesis/borisPusher.ipynb#W5sZmlsZQ%3D%3D?line=11'>12</a>\u001b[0m     initialVelocity, electricfield, magneticfield, chargeofparticle, massofparticle, numberOfitteration, timeofrun)\n\u001b[1;32m     <a href='vscode-notebook-cell:/home/avinash/Desktop/M.Sc%20Thesis/borisPusher.ipynb#W5sZmlsZQ%3D%3D?line=12'>13</a>\u001b[0m time2 \u001b[39m=\u001b[39m timeit\u001b[39m.\u001b[39mdefault_timer()\n\u001b[1;32m     <a href='vscode-notebook-cell:/home/avinash/Desktop/M.Sc%20Thesis/borisPusher.ipynb#W5sZmlsZQ%3D%3D?line=13'>14</a>\u001b[0m \u001b[39mprint\u001b[39m(\u001b[39mf\u001b[39m\u001b[39m'\u001b[39m\u001b[39mTime taken to run Boris push for \u001b[39m\u001b[39m{\u001b[39;00mnumberOfitteration\u001b[39m}\u001b[39;00m\u001b[39m iteration is: \u001b[39m\u001b[39m{\u001b[39;00mtime2\u001b[39m-\u001b[39mtime1\u001b[39m}\u001b[39;00m\u001b[39m'\u001b[39m)\n",
      "\u001b[0;31mTypeError\u001b[0m: BorisPush() missing 1 required positional argument: 'timeofrun'"
     ]
    }
   ],
   "source": [
    "# Initial Conditions and parameters to initialize the  particle pusher\n",
    "numberOfitteration = 500\n",
    "timeofrun = 10\n",
    "electricfield = np.array([0, 0, 0])\n",
    "magneticfield = np.array([0, 0, 1])\n",
    "massofparticle = 0.1\n",
    "chargeofparticle = 1\n",
    "initialVelocity = np.array([0, 1, 0])\n",
    "\n",
    "time1 = timeit.default_timer()\n",
    "position_B, velocity_B, kinetic_energy_B, timeSteps_B = BorisPush(\n",
    "    initialVelocity, electricfield, magneticfield, chargeofparticle, massofparticle, numberOfitteration, timeofrun)\n",
    "time2 = timeit.default_timer()\n",
    "print(f'Time taken to run Boris push for {numberOfitteration} iteration is: {time2-time1}')\n",
    "# position_E, velocity_E, kinetic_energy_E, timeSteps_E = RungeKuttaMethod(\n",
    "#     initialVelocity, electricfield, magneticfield, chargeofparticle, massofparticle, numberOfitteration, timeofrun)\n",
    "# position_R, velocity_R, kinetic_energy_R, timeSteps_R = EulerMethod(\n",
    "#     initialVelocity, electricfield, magneticfield, chargeofparticle, massofparticle, numberOfitteration, timeofrun)\n",
    "time3=timeit.default_timer()\n",
    "position_L, velocity_L, kinetic_energy_L, timeSteps_L = LeapFrog(\n",
    "    initialVelocity, electricfield, magneticfield, chargeofparticle, massofparticle, numberOfitteration, timeofrun)\n",
    "time4 = timeit.default_timer()\n",
    "print(f'Time taken to run LeapFrog push for {numberOfitteration} iteration is: {time4-time3}')\n",
    "\n",
    "from mpl_toolkits import mplot3d\n",
    "%matplotlib qt\n",
    "plt.axes(projection= '3d')\n",
    "plt.scatter(position_B[:,0], position_B[:,1], timeSteps_B, c='red');\n",
    "# plt.xlabel('x')\n",
    "# plt.ylabel('y')\n",
    "# plt.zl('time')\n",
    "# plt.show()\n",
    "\n",
    "from mpl_toolkits import mplot3d\n",
    "%matplotlib qt\n",
    "plt.axes(projection= '3d')\n",
    "plt.plot(position_B[:,0], position_B[:,1], timeSteps_B);\n",
    "plt.xlabel('x')\n",
    "plt.ylabel('y')\n",
    "# plt.zl('time')\n",
    "plt.show()\n",
    "\n",
    "\n",
    "# plt.axes(projection= '3d')\n",
    "# plt.plot(position_L[:,0], position_L[:,1], timeSteps_L, c=\"blue\");\n",
    "# plt.xlabel('x')\n",
    "# plt.ylabel('y')\n",
    "# plt.zl('time')\n",
    "plt.show()"
   ]
  },
  {
   "cell_type": "code",
   "execution_count": null,
   "metadata": {},
   "outputs": [
    {
     "data": {
      "text/plain": [
       "377"
      ]
     },
     "execution_count": 28,
     "metadata": {},
     "output_type": "execute_result"
    }
   ],
   "source": [
    "x = position_B[:,0]\n",
    "x\n",
    "x_1 =np.argmin(x-0)\n",
    "x_1"
   ]
  },
  {
   "cell_type": "code",
   "execution_count": null,
   "metadata": {},
   "outputs": [],
   "source": [
    "# # Initializing conditions\n",
    "# N = 10\n",
    "# t = np.linspace(0, 10, N)\n",
    "# dt = t[1] - t[0]\n",
    "\n",
    "# E = np.array([0, 0, 0])\n",
    "# B = np.array([0, 0, 1])\n",
    "# m = 1\n",
    "# q = 1\n",
    "# v_in = np.array([1, 0, 0])\n",
    "\n",
    "\n",
    "# # For Boris-method\n",
    "# position_B = np.zeros([N, 3])\n",
    "# velocity_B = np.zeros([N, 3])\n",
    "# kinetic_energy_B = np.zeros(N)\n",
    "\n",
    "# velocity_B[0] = v_in\n",
    "# kinetic_energy_B[0] = np.linalg.norm(velocity_B[0])\n",
    "\n",
    "# # For Euler-method\n",
    "# position_E = np.zeros([N, 3])\n",
    "# velocity_E = np.zeros([N, 3])\n",
    "# kinetic_energy_E = np.zeros(N)\n",
    "\n",
    "# velocity_E[0] = v_in\n",
    "# kinetic_energy_E[0] = np.linalg.norm(velocity_E[0])\n",
    "\n",
    "# # For RK-4 method\n",
    "# position_RK4 = np.zeros([N, 3])\n",
    "# velocity_RK4 = np.zeros([N, 3])\n",
    "# kinetic_energy_RK4 = np.zeros(N)\n",
    "\n",
    "# velocity_RK4[0] = v_in\n",
    "# kinetic_energy_RK4[0] = np.linalg.norm(velocity_RK4[0])\n",
    "\n",
    "\n",
    "# for i in range(N-1):\n",
    "\n",
    "#     # boris-method\n",
    "#     velocity_B[i+1] = borisPush(velocity_B[i], E, B, q, m, dt)\n",
    "#     position_B[i+1] = position_B[i] + velocity_B[i+1]*dt\n",
    "#     kinetic_energy_B[i+1] = np.linalg.norm(velocity_B[i+1])\n",
    "\n",
    "#     # Euler-method\n",
    "#     velocity_E[i+1] = eulerPush(velocity_E[i], E, B, q, m, dt)\n",
    "#     position_E[i+1] = position_E[i] + velocity_E[i+1]*dt\n",
    "#     kinetic_energy_E[i+1] = np.linalg.norm(velocity_E[i+1])\n",
    "\n",
    "#     # RK-4 Method\n",
    "#     velocity_RK4[i+1] = rungeKutta4Method(velocity_RK4[i], E, B, q, m, dt)\n",
    "#     position_RK4[i+1] = position_RK4[i] + velocity_RK4[i+1]*dt\n",
    "#     kinetic_energy_RK4[i+1] = np.linalg.norm(velocity_RK4[i+1])\n"
   ]
  },
  {
   "cell_type": "code",
   "execution_count": null,
   "metadata": {},
   "outputs": [],
   "source": [
    "from mpl_toolkits import mplot3d\n",
    "%matplotlib widget\n",
    "plt.axes(projection= '3d')\n",
    "plt.plot(position_B[:,0], position_B[:,1], timeSteps_B);\n",
    "plt.xlabel('x')\n",
    "plt.ylabel('y')\n",
    "# plt.zl('time')\n",
    "plt.show()"
   ]
  },
  {
   "cell_type": "code",
   "execution_count": null,
   "metadata": {},
   "outputs": [],
   "source": [
    "# plt.figure(figsize=(10, 6), dpi=100)\n",
    "# plt.plot(timeSteps_B, kinetic_energy_B, label='BorisPush')\n",
    "# plt.plot(timeSteps_L, kinetic_energy_L, label='LeapFrog')\n",
    "# # plt.plot(timeSteps_R, kinetic_energy_R, label='RungeKuttaMethod')\n",
    "# # plt.plot(timeSteps_E, kinetic_energy_E, label='EulerMethod')\n",
    "# plt.legend()\n"
   ]
  },
  {
   "cell_type": "code",
   "execution_count": null,
   "metadata": {},
   "outputs": [],
   "source": [
    "plt.axes(projection= '3d')\n",
    "plt.plot(velocity_B[:,0], velocity_B[:,1], timeSteps_B);\n",
    "plt.xlabel('v_x')\n",
    "plt.ylabel('v_y')\n",
    "plt.show()"
   ]
  },
  {
   "cell_type": "code",
   "execution_count": null,
   "metadata": {},
   "outputs": [
    {
     "name": "stdout",
     "output_type": "stream",
     "text": [
      "0.0\n"
     ]
    }
   ],
   "source": [
    "for i in range(numberOfitteration):\n",
    "    if (position_B[i,0] < 0.01 and position_B[i,0] > -0.01):\n",
    "        print(position_B[i,1])"
   ]
  },
  {
   "cell_type": "code",
   "execution_count": null,
   "metadata": {},
   "outputs": [],
   "source": [
    "def closest(lst, K):\n",
    "      \n",
    "    return lst[min(range(len(lst)), key = lambda i: abs(lst[i]-K))]"
   ]
  },
  {
   "cell_type": "code",
   "execution_count": null,
   "metadata": {},
   "outputs": [
    {
     "ename": "ValueError",
     "evalue": "s must be a scalar, or float array-like with the same size as x and y",
     "output_type": "error",
     "traceback": [
      "\u001b[0;31m---------------------------------------------------------------------------\u001b[0m",
      "\u001b[0;31mValueError\u001b[0m                                Traceback (most recent call last)",
      "\u001b[1;32m/home/avinash/Desktop/PIC/borisPusher.ipynb Cell 13\u001b[0m in \u001b[0;36m<cell line: 1>\u001b[0;34m()\u001b[0m\n\u001b[1;32m      <a href='vscode-notebook-cell:/home/avinash/Desktop/PIC/borisPusher.ipynb#ch0000012?line=0'>1</a>\u001b[0m \u001b[39mfor\u001b[39;00m i \u001b[39min\u001b[39;00m \u001b[39mrange\u001b[39m(numberOfitteration):\n\u001b[1;32m      <a href='vscode-notebook-cell:/home/avinash/Desktop/PIC/borisPusher.ipynb#ch0000012?line=1'>2</a>\u001b[0m     \u001b[39mif\u001b[39;00m (position_B[i, \u001b[39m0\u001b[39m] \u001b[39m<\u001b[39m \u001b[39m0.0000030\u001b[39m \u001b[39mand\u001b[39;00m position_B[i, \u001b[39m0\u001b[39m] \u001b[39m>\u001b[39m \u001b[39m-\u001b[39m\u001b[39m0.0000030\u001b[39m):\n\u001b[0;32m----> <a href='vscode-notebook-cell:/home/avinash/Desktop/PIC/borisPusher.ipynb#ch0000012?line=2'>3</a>\u001b[0m         plt\u001b[39m.\u001b[39;49mscatter(i, position_B[i\u001b[39m+\u001b[39;49m\u001b[39m2\u001b[39;49m, \u001b[39m1\u001b[39;49m]\u001b[39m-\u001b[39;49mposition_B[i, \u001b[39m1\u001b[39;49m])\n\u001b[1;32m      <a href='vscode-notebook-cell:/home/avinash/Desktop/PIC/borisPusher.ipynb#ch0000012?line=3'>4</a>\u001b[0m         \u001b[39mprint\u001b[39m(i)\n\u001b[1;32m      <a href='vscode-notebook-cell:/home/avinash/Desktop/PIC/borisPusher.ipynb#ch0000012?line=4'>5</a>\u001b[0m         \u001b[39mprint\u001b[39m(position_B[i, \u001b[39m1\u001b[39m]\u001b[39m-\u001b[39mposition_B[i\u001b[39m+\u001b[39m\u001b[39m1\u001b[39m, \u001b[39m1\u001b[39m])\n",
      "File \u001b[0;32m~/.local/lib/python3.10/site-packages/matplotlib/pyplot.py:2819\u001b[0m, in \u001b[0;36mscatter\u001b[0;34m(x, y, s, c, marker, cmap, norm, vmin, vmax, alpha, linewidths, edgecolors, plotnonfinite, data, **kwargs)\u001b[0m\n\u001b[1;32m   2814\u001b[0m \u001b[39m@_copy_docstring_and_deprecators\u001b[39m(Axes\u001b[39m.\u001b[39mscatter)\n\u001b[1;32m   2815\u001b[0m \u001b[39mdef\u001b[39;00m \u001b[39mscatter\u001b[39m(\n\u001b[1;32m   2816\u001b[0m         x, y, s\u001b[39m=\u001b[39m\u001b[39mNone\u001b[39;00m, c\u001b[39m=\u001b[39m\u001b[39mNone\u001b[39;00m, marker\u001b[39m=\u001b[39m\u001b[39mNone\u001b[39;00m, cmap\u001b[39m=\u001b[39m\u001b[39mNone\u001b[39;00m, norm\u001b[39m=\u001b[39m\u001b[39mNone\u001b[39;00m,\n\u001b[1;32m   2817\u001b[0m         vmin\u001b[39m=\u001b[39m\u001b[39mNone\u001b[39;00m, vmax\u001b[39m=\u001b[39m\u001b[39mNone\u001b[39;00m, alpha\u001b[39m=\u001b[39m\u001b[39mNone\u001b[39;00m, linewidths\u001b[39m=\u001b[39m\u001b[39mNone\u001b[39;00m, \u001b[39m*\u001b[39m,\n\u001b[1;32m   2818\u001b[0m         edgecolors\u001b[39m=\u001b[39m\u001b[39mNone\u001b[39;00m, plotnonfinite\u001b[39m=\u001b[39m\u001b[39mFalse\u001b[39;00m, data\u001b[39m=\u001b[39m\u001b[39mNone\u001b[39;00m, \u001b[39m*\u001b[39m\u001b[39m*\u001b[39mkwargs):\n\u001b[0;32m-> 2819\u001b[0m     __ret \u001b[39m=\u001b[39m gca()\u001b[39m.\u001b[39;49mscatter(\n\u001b[1;32m   2820\u001b[0m         x, y, s\u001b[39m=\u001b[39;49ms, c\u001b[39m=\u001b[39;49mc, marker\u001b[39m=\u001b[39;49mmarker, cmap\u001b[39m=\u001b[39;49mcmap, norm\u001b[39m=\u001b[39;49mnorm,\n\u001b[1;32m   2821\u001b[0m         vmin\u001b[39m=\u001b[39;49mvmin, vmax\u001b[39m=\u001b[39;49mvmax, alpha\u001b[39m=\u001b[39;49malpha, linewidths\u001b[39m=\u001b[39;49mlinewidths,\n\u001b[1;32m   2822\u001b[0m         edgecolors\u001b[39m=\u001b[39;49medgecolors, plotnonfinite\u001b[39m=\u001b[39;49mplotnonfinite,\n\u001b[1;32m   2823\u001b[0m         \u001b[39m*\u001b[39;49m\u001b[39m*\u001b[39;49m({\u001b[39m\"\u001b[39;49m\u001b[39mdata\u001b[39;49m\u001b[39m\"\u001b[39;49m: data} \u001b[39mif\u001b[39;49;00m data \u001b[39mis\u001b[39;49;00m \u001b[39mnot\u001b[39;49;00m \u001b[39mNone\u001b[39;49;00m \u001b[39melse\u001b[39;49;00m {}), \u001b[39m*\u001b[39;49m\u001b[39m*\u001b[39;49mkwargs)\n\u001b[1;32m   2824\u001b[0m     sci(__ret)\n\u001b[1;32m   2825\u001b[0m     \u001b[39mreturn\u001b[39;00m __ret\n",
      "File \u001b[0;32m~/.local/lib/python3.10/site-packages/matplotlib/__init__.py:1412\u001b[0m, in \u001b[0;36m_preprocess_data.<locals>.inner\u001b[0;34m(ax, data, *args, **kwargs)\u001b[0m\n\u001b[1;32m   1409\u001b[0m \u001b[39m@functools\u001b[39m\u001b[39m.\u001b[39mwraps(func)\n\u001b[1;32m   1410\u001b[0m \u001b[39mdef\u001b[39;00m \u001b[39minner\u001b[39m(ax, \u001b[39m*\u001b[39margs, data\u001b[39m=\u001b[39m\u001b[39mNone\u001b[39;00m, \u001b[39m*\u001b[39m\u001b[39m*\u001b[39mkwargs):\n\u001b[1;32m   1411\u001b[0m     \u001b[39mif\u001b[39;00m data \u001b[39mis\u001b[39;00m \u001b[39mNone\u001b[39;00m:\n\u001b[0;32m-> 1412\u001b[0m         \u001b[39mreturn\u001b[39;00m func(ax, \u001b[39m*\u001b[39;49m\u001b[39mmap\u001b[39;49m(sanitize_sequence, args), \u001b[39m*\u001b[39;49m\u001b[39m*\u001b[39;49mkwargs)\n\u001b[1;32m   1414\u001b[0m     bound \u001b[39m=\u001b[39m new_sig\u001b[39m.\u001b[39mbind(ax, \u001b[39m*\u001b[39margs, \u001b[39m*\u001b[39m\u001b[39m*\u001b[39mkwargs)\n\u001b[1;32m   1415\u001b[0m     auto_label \u001b[39m=\u001b[39m (bound\u001b[39m.\u001b[39marguments\u001b[39m.\u001b[39mget(label_namer)\n\u001b[1;32m   1416\u001b[0m                   \u001b[39mor\u001b[39;00m bound\u001b[39m.\u001b[39mkwargs\u001b[39m.\u001b[39mget(label_namer))\n",
      "File \u001b[0;32m~/.local/lib/python3.10/site-packages/mpl_toolkits/mplot3d/axes3d.py:2389\u001b[0m, in \u001b[0;36mAxes3D.scatter\u001b[0;34m(self, xs, ys, zs, zdir, s, c, depthshade, *args, **kwargs)\u001b[0m\n\u001b[1;32m   2386\u001b[0m \u001b[39mif\u001b[39;00m np\u001b[39m.\u001b[39mmay_share_memory(zs_orig, zs):  \u001b[39m# Avoid unnecessary copies.\u001b[39;00m\n\u001b[1;32m   2387\u001b[0m     zs \u001b[39m=\u001b[39m zs\u001b[39m.\u001b[39mcopy()\n\u001b[0;32m-> 2389\u001b[0m patches \u001b[39m=\u001b[39m \u001b[39msuper\u001b[39;49m()\u001b[39m.\u001b[39;49mscatter(xs, ys, s\u001b[39m=\u001b[39;49ms, c\u001b[39m=\u001b[39;49mc, \u001b[39m*\u001b[39;49margs, \u001b[39m*\u001b[39;49m\u001b[39m*\u001b[39;49mkwargs)\n\u001b[1;32m   2390\u001b[0m art3d\u001b[39m.\u001b[39mpatch_collection_2d_to_3d(patches, zs\u001b[39m=\u001b[39mzs, zdir\u001b[39m=\u001b[39mzdir,\n\u001b[1;32m   2391\u001b[0m                                 depthshade\u001b[39m=\u001b[39mdepthshade)\n\u001b[1;32m   2393\u001b[0m \u001b[39mif\u001b[39;00m \u001b[39mself\u001b[39m\u001b[39m.\u001b[39m_zmargin \u001b[39m<\u001b[39m \u001b[39m0.05\u001b[39m \u001b[39mand\u001b[39;00m xs\u001b[39m.\u001b[39msize \u001b[39m>\u001b[39m \u001b[39m0\u001b[39m:\n",
      "File \u001b[0;32m~/.local/lib/python3.10/site-packages/matplotlib/__init__.py:1412\u001b[0m, in \u001b[0;36m_preprocess_data.<locals>.inner\u001b[0;34m(ax, data, *args, **kwargs)\u001b[0m\n\u001b[1;32m   1409\u001b[0m \u001b[39m@functools\u001b[39m\u001b[39m.\u001b[39mwraps(func)\n\u001b[1;32m   1410\u001b[0m \u001b[39mdef\u001b[39;00m \u001b[39minner\u001b[39m(ax, \u001b[39m*\u001b[39margs, data\u001b[39m=\u001b[39m\u001b[39mNone\u001b[39;00m, \u001b[39m*\u001b[39m\u001b[39m*\u001b[39mkwargs):\n\u001b[1;32m   1411\u001b[0m     \u001b[39mif\u001b[39;00m data \u001b[39mis\u001b[39;00m \u001b[39mNone\u001b[39;00m:\n\u001b[0;32m-> 1412\u001b[0m         \u001b[39mreturn\u001b[39;00m func(ax, \u001b[39m*\u001b[39;49m\u001b[39mmap\u001b[39;49m(sanitize_sequence, args), \u001b[39m*\u001b[39;49m\u001b[39m*\u001b[39;49mkwargs)\n\u001b[1;32m   1414\u001b[0m     bound \u001b[39m=\u001b[39m new_sig\u001b[39m.\u001b[39mbind(ax, \u001b[39m*\u001b[39margs, \u001b[39m*\u001b[39m\u001b[39m*\u001b[39mkwargs)\n\u001b[1;32m   1415\u001b[0m     auto_label \u001b[39m=\u001b[39m (bound\u001b[39m.\u001b[39marguments\u001b[39m.\u001b[39mget(label_namer)\n\u001b[1;32m   1416\u001b[0m                   \u001b[39mor\u001b[39;00m bound\u001b[39m.\u001b[39mkwargs\u001b[39m.\u001b[39mget(label_namer))\n",
      "File \u001b[0;32m~/.local/lib/python3.10/site-packages/matplotlib/axes/_axes.py:4371\u001b[0m, in \u001b[0;36mAxes.scatter\u001b[0;34m(self, x, y, s, c, marker, cmap, norm, vmin, vmax, alpha, linewidths, edgecolors, plotnonfinite, **kwargs)\u001b[0m\n\u001b[1;32m   4367\u001b[0m s \u001b[39m=\u001b[39m np\u001b[39m.\u001b[39mma\u001b[39m.\u001b[39mravel(s)\n\u001b[1;32m   4368\u001b[0m \u001b[39mif\u001b[39;00m (\u001b[39mlen\u001b[39m(s) \u001b[39mnot\u001b[39;00m \u001b[39min\u001b[39;00m (\u001b[39m1\u001b[39m, x\u001b[39m.\u001b[39msize) \u001b[39mor\u001b[39;00m\n\u001b[1;32m   4369\u001b[0m         (\u001b[39mnot\u001b[39;00m np\u001b[39m.\u001b[39missubdtype(s\u001b[39m.\u001b[39mdtype, np\u001b[39m.\u001b[39mfloating) \u001b[39mand\u001b[39;00m\n\u001b[1;32m   4370\u001b[0m          \u001b[39mnot\u001b[39;00m np\u001b[39m.\u001b[39missubdtype(s\u001b[39m.\u001b[39mdtype, np\u001b[39m.\u001b[39minteger))):\n\u001b[0;32m-> 4371\u001b[0m     \u001b[39mraise\u001b[39;00m \u001b[39mValueError\u001b[39;00m(\n\u001b[1;32m   4372\u001b[0m         \u001b[39m\"\u001b[39m\u001b[39ms must be a scalar, \u001b[39m\u001b[39m\"\u001b[39m\n\u001b[1;32m   4373\u001b[0m         \u001b[39m\"\u001b[39m\u001b[39mor float array-like with the same size as x and y\u001b[39m\u001b[39m\"\u001b[39m)\n\u001b[1;32m   4375\u001b[0m \u001b[39m# get the original edgecolor the user passed before we normalize\u001b[39;00m\n\u001b[1;32m   4376\u001b[0m orig_edgecolor \u001b[39m=\u001b[39m edgecolors\n",
      "\u001b[0;31mValueError\u001b[0m: s must be a scalar, or float array-like with the same size as x and y"
     ]
    }
   ],
   "source": [
    "for i in range(numberOfitteration):\n",
    "    if (position_B[i, 0] < 0.0000030 and position_B[i, 0] > -0.0000030):\n",
    "        plt.scatter(i, position_B[i+2, 1]-position_B[i, 1])\n",
    "        print(i)\n",
    "        print(position_B[i, 1]-position_B[i+1, 1])\n",
    "plt.show()"
   ]
  },
  {
   "cell_type": "code",
   "execution_count": null,
   "metadata": {},
   "outputs": [
    {
     "data": {
      "text/plain": [
       "array([ 0.,  0., 10.])"
      ]
     },
     "execution_count": 11,
     "metadata": {},
     "output_type": "execute_result"
    }
   ],
   "source": [
    "t = (chargeofparticle*magneticfield/massofparticle)\n",
    "t"
   ]
  },
  {
   "cell_type": "code",
   "execution_count": null,
   "metadata": {},
   "outputs": [
    {
     "data": {
      "text/plain": [
       "array([  0.,   0., 100.])"
      ]
     },
     "execution_count": 12,
     "metadata": {},
     "output_type": "execute_result"
    }
   ],
   "source": [
    "t**2"
   ]
  }
 ],
 "metadata": {
  "interpreter": {
   "hash": "916dbcbb3f70747c44a77c7bcd40155683ae19c65e1c03b4aa3499c5328201f1"
  },
  "kernelspec": {
   "display_name": "Python 3.10.4 64-bit",
   "language": "python",
   "name": "python3"
  },
  "language_info": {
   "codemirror_mode": {
    "name": "ipython",
    "version": 3
   },
   "file_extension": ".py",
   "mimetype": "text/x-python",
   "name": "python",
   "nbconvert_exporter": "python",
   "pygments_lexer": "ipython3",
   "version": "3.10.4"
  },
  "orig_nbformat": 4
 },
 "nbformat": 4,
 "nbformat_minor": 2
}
