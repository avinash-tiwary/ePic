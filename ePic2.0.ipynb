{
 "cells": [
  {
   "cell_type": "code",
   "execution_count": 1,
   "metadata": {},
   "outputs": [],
   "source": [
    "import numpy as np\n",
    "from scipy.linalg import block_diag\n",
    "import matplotlib.pyplot as plt\n",
    "from tqdm import tqdm"
   ]
  },
  {
   "cell_type": "code",
   "execution_count": 2,
   "metadata": {},
   "outputs": [],
   "source": [
    "#  Particle diatribution over grid\n",
    "def initialPos(charge, numberofparticle, numberOfgridcell, gridSize, mass):\n",
    "    initposition = np.random.uniform(\n",
    "        0, numberOfgridcell*gridSize, size=(numberofparticle, 3))\n",
    "    initposition[:, 2] = 0\n",
    "    chargeAnsMass = np.ones([numberofparticle, 2])\n",
    "    chargeAnsMass[:, 0] = charge\n",
    "    chargeAnsMass[:, 1] = mass\n",
    "    return initposition, chargeAnsMass\n"
   ]
  },
  {
   "cell_type": "code",
   "execution_count": 23,
   "metadata": {},
   "outputs": [],
   "source": [
    "def particleDistribution(numberOfparticleinEachCell, numberOfgridcell, charge1, charge2, mass1, mass2):\n",
    "    # initposition = np.empty(numberOfgridcell*numberOfgridcell*numberOfparticleinEachCell)\n",
    "    pos = np.array([[0, 0, 0]])\n",
    "    qANDm = np.array([[0, 0]])\n",
    "    for i in range(numberOfgridcell):\n",
    "        for j in range(numberOfgridcell):\n",
    "            for n in range(numberOfparticleinEachCell):\n",
    "                x = np.random.uniform(i, i+1)\n",
    "                y = np.random.uniform(j, j+1)\n",
    "                if n < numberOfparticleinEachCell/2:\n",
    "                    q = charge1\n",
    "                    m = mass1\n",
    "                else:\n",
    "                    q = charge2\n",
    "                    m = mass2\n",
    "                positionIngrid = np.array([[x, y, 0]])\n",
    "                chargeAnsMass = np.array([[q, m]])\n",
    "                pos = np.concatenate((pos, positionIngrid), axis=0)\n",
    "                qANDm = np.concatenate((qANDm, chargeAnsMass), axis=0)\n",
    "    return pos[1:], qANDm[1:]\n",
    "\n",
    "\n",
    "# Charge density calculation using Cloud in Cell Algorithm\n",
    "def chargeDensity(initposition, numberOfgridcell, chargeAnsMass):\n",
    "    density = np.zeros([numberOfgridcell+1, numberOfgridcell+1])\n",
    "    for i in range(len(initposition)):\n",
    "        x = initposition[i][0]\n",
    "        y = initposition[i][1]\n",
    "        q = chargeAnsMass[0]\n",
    "        i = int(x)\n",
    "        j = int(y)\n",
    "\n",
    "        w1 = (i+1-x)*(j+1-y)  # (i,j)\n",
    "        w2 = (x-i)*(j+1-y)    # (i+1,j)\n",
    "        w3 = (i+1-x)*(y-j)    # (i,j+1)\n",
    "        w4 = (x-i)*(y-j)      # (i+1,j+1)\n",
    "\n",
    "        density[i, j] += w1*q\n",
    "        density[i+1, j] += w2*q\n",
    "        density[i, j+1] += w3*q\n",
    "        density[i+1, j+1] += w4*q\n",
    "\n",
    "    return density.transpose()\n",
    "\n",
    "\n",
    "# Electric Potential solver using finite difference method\n",
    "def poissonSolver(density, numberOfgridcell):\n",
    "    Nx = numberOfgridcell+2\n",
    "    Ddiag = -4 * np.eye(Nx - 1)\n",
    "    Dupper = np.diag([1] * (Nx - 2), 1)\n",
    "    Dlower = np.diag([1] * (Nx - 2), -1)\n",
    "    D = Ddiag + Dupper + Dlower\n",
    "    Ds = [D] * (Nx - 1)\n",
    "    A = block_diag(*Ds)\n",
    "    I = np.ones((Nx - 1) * (Nx - 2))\n",
    "    Iupper = np.diag(I, Nx - 1)\n",
    "    Ilower = np.diag(I, -Nx + 1)\n",
    "    A += Iupper + Ilower\n",
    "    B = density.flatten()\n",
    "\n",
    "    phi = np.linalg.solve(A, B)\n",
    "    phi = phi.reshape(\n",
    "        numberOfgridcell+1, numberOfgridcell+1)\n",
    "\n",
    "    conductingPhi = np.zeros([numberOfgridcell+3, numberOfgridcell+3])\n",
    "    conductingPhi[1:-1, 1:-1] = phi\n",
    "    conductingPhi[0], conductingPhi[-1], conductingPhi[:, 0], conductingPhi[:, -\n",
    "                                                                            1] = conductingPhi[1], conductingPhi[-2], conductingPhi[:, 1], conductingPhi[:, -2]\n",
    "\n",
    "    return conductingPhi\n",
    "\n",
    "\n",
    "# Function to find elctric field from solved potential\n",
    "def elctricfieldsolver(phi, numberOfgridcell):\n",
    "    electricfield_x = np.zeros([numberOfgridcell+1, numberOfgridcell+2])\n",
    "    electricfield_y = np.zeros([numberOfgridcell+2, numberOfgridcell+1])\n",
    "    # electricfield_z = np.zeros([numberOfgridcell+1, numberOfgridcell+1])\n",
    "\n",
    "    for i in range(numberOfgridcell+1):\n",
    "        for j in range(numberOfgridcell+2):\n",
    "            electricfield_x[i, j] = phi[i+1, j+1] - phi[i+1, j]\n",
    "\n",
    "    for i in range(numberOfgridcell+2):\n",
    "        for j in range(numberOfgridcell+1):\n",
    "            electricfield_y[i, j] = phi[i+1, j+1] - phi[i, j+1]\n",
    "\n",
    "    return electricfield_x, electricfield_y\n",
    "\n",
    "# Inverse CIC\n",
    "\n",
    "\n",
    "def fieldAtparticlepos(initposition, electricfield):\n",
    "    x = initposition[0]\n",
    "    y = initposition[1]\n",
    "    i = int(x)\n",
    "    j = int(y)\n",
    "\n",
    "    w1 = (i+1-x)*(j+1-y)  # (i,j)\n",
    "    w2 = (i+1-x)*(y-j)    # (i,j+1)\n",
    "    w3 = (x-i)*(j+1-y)    # (i+1,j)\n",
    "    w4 = (x-i)*(y-j)      # (i+1,j+1)\n",
    "\n",
    "    # i, j = j, i\n",
    "    # return w1*electricfield[j, i] + w2*electricfield[j+1, i] + w3*electricfield[j, i+1] + w4*electricfield[j+1, i+1]\n",
    "    return w1*electricfield[i, j] + w2*electricfield[i+1, j] + w3*electricfield[i, j+1] + w4*electricfield[i+1, j+1]\n",
    "\n",
    "# Boris-Method Particle push\n",
    "\n",
    "\n",
    "def BorisPush(inposition, invelocity, eField, extEfield, magneticfield, chargeAnsMass, dt, timeofrun):\n",
    "\n",
    "    Ex = fieldAtparticlepos(inposition, eField[0])\n",
    "    Ey = fieldAtparticlepos(inposition, eField[1])\n",
    "    Ez = 0\n",
    "    electricfield = np.array([Ex, Ey, Ez]) + extEfield\n",
    "\n",
    "    numberOfitteration = int(timeofrun/dt)\n",
    "    timeSteps = np.linspace(0, timeofrun, numberOfitteration)\n",
    "\n",
    "    position = np.zeros([numberOfitteration, 3])\n",
    "    velocity = np.zeros([numberOfitteration, 3])\n",
    "    kinetic_energy = np.zeros(numberOfitteration)\n",
    "\n",
    "    position[0] = inposition\n",
    "    velocity[0] = invelocity\n",
    "    # velocity[0] = invelocity*chargeAnsMass[0]\n",
    "\n",
    "    kinetic_energy[0] = np.linalg.norm(velocity[0])\n",
    "\n",
    "    t = (chargeAnsMass[0]*magneticfield/chargeAnsMass[1])*dt/2\n",
    "    s = (2*t)/(1 + np.dot(t, t))\n",
    "\n",
    "    for i in range(numberOfitteration-1):\n",
    "        # Kick\n",
    "        position_half = position[i] + velocity[i]*dt/2\n",
    "\n",
    "        # Drift and rotation\n",
    "        v_minus = velocity[i] + (chargeAnsMass[0] *\n",
    "                                 electricfield/chargeAnsMass[1])*dt/2\n",
    "        v_prime = v_minus + np.cross(v_minus, t)\n",
    "        v_plus = v_minus + np.cross(v_prime, s)\n",
    "        velocity[i+1] = v_plus + \\\n",
    "            (chargeAnsMass[0]*electricfield/chargeAnsMass[1])*dt/2\n",
    "\n",
    "        # Kick\n",
    "        position[i+1] = position_half + velocity[i+1]*dt/2\n",
    "        # kinetic_energy[i+1] = np.linalg.norm(velocity[i+1])\n",
    "\n",
    "    return position[-1], velocity[-1]\n",
    "\n",
    "\n",
    "# field weighting\n",
    "def FieldweightingX(x, y, Ex):\n",
    "    if x < (int(x) + 0.5):\n",
    "        i = int(x)\n",
    "    else:\n",
    "        i = int(x) + 1\n",
    "\n",
    "    j = int(y)\n",
    "\n",
    "    l1 = x - i + 0.5\n",
    "    l3 = i + 0.5 - x\n",
    "    l2 = y - j\n",
    "    l4 = j + 1 - y\n",
    "\n",
    "    Exw = Ex[j, i]*l3*l4 + Ex[j, i+1]*l1*l4 + \\\n",
    "        Ex[j+1, i]*l2*l3 + Ex[j+1, i+1]*l1*l2\n",
    "    return Exw\n",
    "\n",
    "\n",
    "def FieldweightingY(x, y, Ey):\n",
    "    i = int(x)\n",
    "    if y < (int(y) + 0.5):\n",
    "        j = int(y)\n",
    "    else:\n",
    "        j = int(y) + 1\n",
    "\n",
    "    l1 = x - i\n",
    "    l3 = i + 1 - x\n",
    "    l2 = y - j + 0.5\n",
    "    l4 = j + 0.5 - y\n",
    "\n",
    "    Eyw = Ey[j, i]*l3*l4 + Ey[j, i+1]*l1*l4 + \\\n",
    "        Ey[j+1, i]*l2*l3 + Ey[j+1, i+1]*l1*l2\n",
    "    return Eyw\n"
   ]
  },
  {
   "cell_type": "code",
   "execution_count": null,
   "metadata": {},
   "outputs": [],
   "source": []
  },
  {
   "cell_type": "code",
   "execution_count": 5,
   "metadata": {},
   "outputs": [],
   "source": [
    "# Ex = fieldAtparticlepos(initposition[0], np.array(\n",
    "#     [electricfield_x, electricfield_y])[0])\n",
    "# Ey = fieldAtparticlepos(initposition[0], np.array(\n",
    "#     [electricfield_x, electricfield_y])[1])\n",
    "# Ez = 0\n",
    "# electricfield = np.array([Ex, Ey, Ez])\n",
    "# electricfield\n"
   ]
  },
  {
   "cell_type": "code",
   "execution_count": 5,
   "metadata": {},
   "outputs": [],
   "source": [
    "def plotParticleOverGrid(position, x, y, i=1, s=0.5):\n",
    "    # plt.figure(figsize=(12, 12), dpi=100)\n",
    "\n",
    "    plt.plot(x, y, c='blue', alpha=0.1)\n",
    "    plt.plot(y, x, c='blue', alpha=0.1)\n",
    "    # plt.xticks(x)\n",
    "    # plt.yticks(y)\n",
    "    plt.ylim(len(x) + 0.5, -0.5)\n",
    "    plt.scatter(position[:, 0], position[:, 1], s=s, c=position[:, 2], label=i)\n",
    "    # plt.legend()\n",
    "    # plt.colorbar()\n",
    "    plt.show()\n",
    "\n",
    "\n",
    "def plotDensity(x, y, density, numberOfgridcell):\n",
    "    # plt.figure(figsize=(12, 12), dpi=100)\n",
    "    # plt.grid()\n",
    "    # plt.xticks(x)\n",
    "    # plt.yticks(y)\n",
    "    plt.imshow(density, extent=(0, numberOfgridcell, numberOfgridcell, 0))\n",
    "    plt.colorbar()\n",
    "    plt.show()\n",
    "\n",
    "\n",
    "def plotpotentialofparticle(x, y, phi, numberOfgridcell):\n",
    "    # plt.figure(figsize=(12, 12), dpi=100)\n",
    "    # plt.grid()\n",
    "    # plt.xticks(x)\n",
    "    # plt.yticks(y)\n",
    "    plt.imshow(phi, extent=(0, numberOfgridcell, numberOfgridcell, 0))\n",
    "    plt.colorbar()\n",
    "    plt.show()\n",
    "\n",
    "\n",
    "def plotElectricField(electricfield, numberOfgridcell, gridSize, d=1):\n",
    "\n",
    "    numberOfgridcell = numberOfgridcell+1\n",
    "    x = np.linspace(0, numberOfgridcell*gridSize, numberOfgridcell)\n",
    "    y = np.linspace(0, numberOfgridcell*gridSize, numberOfgridcell)\n",
    "    x_grid, y_grid = np.meshgrid(x, y)\n",
    "    # plt.figure(figsize=(12, 12), dpi=100)\n",
    "    # plt.scatter(x_grid, y_grid, c='blue')\n",
    "    plt.streamplot(x, y, electricfield[:, :, 0],\n",
    "                   electricfield[:, :, 1], density=d)\n",
    "    # plt.xticks(x)\n",
    "    # plt.yticks(y)\n",
    "    plt.ylim(numberOfgridcell+1 + 0.5, -0.5)\n",
    "    plt.show()\n"
   ]
  },
  {
   "cell_type": "markdown",
   "metadata": {},
   "source": [
    "## Two stream Instability"
   ]
  },
  {
   "cell_type": "code",
   "execution_count": 31,
   "metadata": {},
   "outputs": [
    {
     "name": "stderr",
     "output_type": "stream",
     "text": [
      "  0%|          | 0/500 [00:00<?, ?it/s]/tmp/ipykernel_290940/3107248368.py:24: VisibleDeprecationWarning: Creating an ndarray from ragged nested sequences (which is a list-or-tuple of lists-or-tuples-or ndarrays with different lengths or shapes) is deprecated. If you meant to do this, you must specify 'dtype=object' when creating the ndarray.\n",
      "  initposition[n], velocity[n] = BorisPush(initposition[n], velocity[n], np.array(\n",
      "100%|██████████| 500/500 [00:18<00:00, 26.86it/s]\n",
      "100%|██████████| 499/499 [4:56:54<00:00, 35.70s/it]     \n",
      "100%|██████████| 498/498 [00:16<00:00, 30.65it/s]\n",
      "100%|██████████| 497/497 [00:16<00:00, 30.54it/s]\n",
      "100%|██████████| 496/496 [00:17<00:00, 27.84it/s]\n",
      "100%|██████████| 495/495 [00:17<00:00, 29.05it/s]\n",
      "100%|██████████| 494/494 [00:15<00:00, 30.89it/s]\n",
      "100%|██████████| 493/493 [00:16<00:00, 30.49it/s]\n",
      "100%|██████████| 492/492 [00:16<00:00, 30.48it/s]\n",
      "100%|██████████| 491/491 [00:15<00:00, 30.88it/s]\n",
      "100%|██████████| 490/490 [00:16<00:00, 30.35it/s]\n",
      "100%|██████████| 489/489 [00:15<00:00, 30.59it/s]\n",
      "100%|██████████| 488/488 [00:17<00:00, 28.26it/s]\n",
      "100%|██████████| 487/487 [00:16<00:00, 28.79it/s]\n",
      "100%|██████████| 486/486 [00:17<00:00, 28.58it/s]\n",
      "100%|██████████| 485/485 [00:15<00:00, 30.61it/s]\n",
      "100%|██████████| 484/484 [00:16<00:00, 28.57it/s]\n",
      "100%|██████████| 483/483 [00:17<00:00, 26.97it/s]\n",
      "100%|██████████| 482/482 [00:16<00:00, 29.78it/s]\n",
      " 39%|███▉      | 188/481 [00:06<00:09, 29.52it/s]\n"
     ]
    },
    {
     "ename": "KeyboardInterrupt",
     "evalue": "",
     "output_type": "error",
     "traceback": [
      "\u001b[0;31m---------------------------------------------------------------------------\u001b[0m",
      "\u001b[0;31mKeyboardInterrupt\u001b[0m                         Traceback (most recent call last)",
      "\u001b[1;32m/home/avinash/Desktop/M.Sc Thesis/ePic2.0.ipynb Cell 8\u001b[0m in \u001b[0;36m<cell line: 18>\u001b[0;34m()\u001b[0m\n\u001b[1;32m     <a href='vscode-notebook-cell:/home/avinash/Desktop/M.Sc%20Thesis/ePic2.0.ipynb#X60sZmlsZQ%3D%3D?line=20'>21</a>\u001b[0m electricfield_x, electricfield_y \u001b[39m=\u001b[39m elctricfieldsolver(\n\u001b[1;32m     <a href='vscode-notebook-cell:/home/avinash/Desktop/M.Sc%20Thesis/ePic2.0.ipynb#X60sZmlsZQ%3D%3D?line=21'>22</a>\u001b[0m     phi, Nx)\n\u001b[1;32m     <a href='vscode-notebook-cell:/home/avinash/Desktop/M.Sc%20Thesis/ePic2.0.ipynb#X60sZmlsZQ%3D%3D?line=22'>23</a>\u001b[0m \u001b[39mfor\u001b[39;00m n \u001b[39min\u001b[39;00m tqdm(\u001b[39mrange\u001b[39m(n)):\n\u001b[0;32m---> <a href='vscode-notebook-cell:/home/avinash/Desktop/M.Sc%20Thesis/ePic2.0.ipynb#X60sZmlsZQ%3D%3D?line=23'>24</a>\u001b[0m     initposition[n], velocity[n] \u001b[39m=\u001b[39m BorisPush(initposition[n], velocity[n], np\u001b[39m.\u001b[39;49marray(\n\u001b[1;32m     <a href='vscode-notebook-cell:/home/avinash/Desktop/M.Sc%20Thesis/ePic2.0.ipynb#X60sZmlsZQ%3D%3D?line=24'>25</a>\u001b[0m         [electricfield_x, electricfield_y]),extEfield, magneticfield, chargeAnsMass, dt, timeofrun)\n\u001b[1;32m     <a href='vscode-notebook-cell:/home/avinash/Desktop/M.Sc%20Thesis/ePic2.0.ipynb#X60sZmlsZQ%3D%3D?line=25'>26</a>\u001b[0m     initposition[n, \u001b[39m0\u001b[39m] \u001b[39m=\u001b[39m initposition[n, \u001b[39m0\u001b[39m] \u001b[39m%\u001b[39m (\n\u001b[1;32m     <a href='vscode-notebook-cell:/home/avinash/Desktop/M.Sc%20Thesis/ePic2.0.ipynb#X60sZmlsZQ%3D%3D?line=26'>27</a>\u001b[0m         gridSize\u001b[39m*\u001b[39mNx)\n\u001b[1;32m     <a href='vscode-notebook-cell:/home/avinash/Desktop/M.Sc%20Thesis/ePic2.0.ipynb#X60sZmlsZQ%3D%3D?line=27'>28</a>\u001b[0m     initposition[n, \u001b[39m1\u001b[39m] \u001b[39m=\u001b[39m initposition[n, \u001b[39m1\u001b[39m] \u001b[39m%\u001b[39m (\n\u001b[1;32m     <a href='vscode-notebook-cell:/home/avinash/Desktop/M.Sc%20Thesis/ePic2.0.ipynb#X60sZmlsZQ%3D%3D?line=28'>29</a>\u001b[0m         gridSize\u001b[39m*\u001b[39mNx)\n",
      "\u001b[1;32m/home/avinash/Desktop/M.Sc Thesis/ePic2.0.ipynb Cell 8\u001b[0m in \u001b[0;36mBorisPush\u001b[0;34m(inposition, invelocity, eField, extEfield, magneticfield, chargeAnsMass, dt, timeofrun)\u001b[0m\n\u001b[1;32m    <a href='vscode-notebook-cell:/home/avinash/Desktop/M.Sc%20Thesis/ePic2.0.ipynb#X60sZmlsZQ%3D%3D?line=137'>138</a>\u001b[0m v_minus \u001b[39m=\u001b[39m velocity[i] \u001b[39m+\u001b[39m (chargeAnsMass[\u001b[39m0\u001b[39m] \u001b[39m*\u001b[39m\n\u001b[1;32m    <a href='vscode-notebook-cell:/home/avinash/Desktop/M.Sc%20Thesis/ePic2.0.ipynb#X60sZmlsZQ%3D%3D?line=138'>139</a>\u001b[0m                          electricfield\u001b[39m/\u001b[39mchargeAnsMass[\u001b[39m1\u001b[39m])\u001b[39m*\u001b[39mdt\u001b[39m/\u001b[39m\u001b[39m2\u001b[39m\n\u001b[1;32m    <a href='vscode-notebook-cell:/home/avinash/Desktop/M.Sc%20Thesis/ePic2.0.ipynb#X60sZmlsZQ%3D%3D?line=139'>140</a>\u001b[0m v_prime \u001b[39m=\u001b[39m v_minus \u001b[39m+\u001b[39m np\u001b[39m.\u001b[39mcross(v_minus, t)\n\u001b[0;32m--> <a href='vscode-notebook-cell:/home/avinash/Desktop/M.Sc%20Thesis/ePic2.0.ipynb#X60sZmlsZQ%3D%3D?line=140'>141</a>\u001b[0m v_plus \u001b[39m=\u001b[39m v_minus \u001b[39m+\u001b[39m np\u001b[39m.\u001b[39;49mcross(v_prime, s)\n\u001b[1;32m    <a href='vscode-notebook-cell:/home/avinash/Desktop/M.Sc%20Thesis/ePic2.0.ipynb#X60sZmlsZQ%3D%3D?line=141'>142</a>\u001b[0m velocity[i\u001b[39m+\u001b[39m\u001b[39m1\u001b[39m] \u001b[39m=\u001b[39m v_plus \u001b[39m+\u001b[39m \\\n\u001b[1;32m    <a href='vscode-notebook-cell:/home/avinash/Desktop/M.Sc%20Thesis/ePic2.0.ipynb#X60sZmlsZQ%3D%3D?line=142'>143</a>\u001b[0m     (chargeAnsMass[\u001b[39m0\u001b[39m]\u001b[39m*\u001b[39melectricfield\u001b[39m/\u001b[39mchargeAnsMass[\u001b[39m1\u001b[39m])\u001b[39m*\u001b[39mdt\u001b[39m/\u001b[39m\u001b[39m2\u001b[39m\n\u001b[1;32m    <a href='vscode-notebook-cell:/home/avinash/Desktop/M.Sc%20Thesis/ePic2.0.ipynb#X60sZmlsZQ%3D%3D?line=144'>145</a>\u001b[0m \u001b[39m# Kick\u001b[39;00m\n",
      "File \u001b[0;32m<__array_function__ internals>:180\u001b[0m, in \u001b[0;36mcross\u001b[0;34m(*args, **kwargs)\u001b[0m\n",
      "File \u001b[0;32m~/.local/lib/python3.10/site-packages/numpy/core/numeric.py:1610\u001b[0m, in \u001b[0;36mcross\u001b[0;34m(a, b, axisa, axisb, axisc, axis)\u001b[0m\n\u001b[1;32m   1607\u001b[0m     \u001b[39mraise\u001b[39;00m \u001b[39mValueError\u001b[39;00m(msg)\n\u001b[1;32m   1609\u001b[0m \u001b[39m# Create the output array\u001b[39;00m\n\u001b[0;32m-> 1610\u001b[0m shape \u001b[39m=\u001b[39m broadcast(a[\u001b[39m.\u001b[39;49m\u001b[39m.\u001b[39;49m\u001b[39m.\u001b[39;49m, \u001b[39m0\u001b[39;49m], b[\u001b[39m.\u001b[39;49m\u001b[39m.\u001b[39;49m\u001b[39m.\u001b[39;49m, \u001b[39m0\u001b[39;49m])\u001b[39m.\u001b[39mshape\n\u001b[1;32m   1611\u001b[0m \u001b[39mif\u001b[39;00m a\u001b[39m.\u001b[39mshape[\u001b[39m-\u001b[39m\u001b[39m1\u001b[39m] \u001b[39m==\u001b[39m \u001b[39m3\u001b[39m \u001b[39mor\u001b[39;00m b\u001b[39m.\u001b[39mshape[\u001b[39m-\u001b[39m\u001b[39m1\u001b[39m] \u001b[39m==\u001b[39m \u001b[39m3\u001b[39m:\n\u001b[1;32m   1612\u001b[0m     shape \u001b[39m+\u001b[39m\u001b[39m=\u001b[39m (\u001b[39m3\u001b[39m,)\n",
      "\u001b[0;31mKeyboardInterrupt\u001b[0m: "
     ]
    },
    {
     "data": {
      "image/png": "[encoded data removed]",
      "text/plain": [
       "<Figure size 432x288 with 1 Axes>"
      ]
     },
     "metadata": {
      "needs_background": "light"
     },
     "output_type": "display_data"
    }
   ],
   "source": [
    "n = 500\n",
    "boxSize = 20\n",
    "initposition = np.random.uniform(0, boxSize, size=(n,3))\n",
    "initposition[:,2] = 0\n",
    "initposition[:,1] = boxSize/2\n",
    "velocity = np.ones([n,3])*5\n",
    "velocity[: int(n/2)] *= -1\n",
    "velocity[:,1] = 0\n",
    "velocity[:,2] = 0\n",
    "Nx = 20\n",
    "magneticfield = np.zeros(3)\n",
    "chargeAnsMass = np.ones(2)\n",
    "dt = 0.1\n",
    "timeofrun = 50\n",
    "gridSize = boxSize/Nx\n",
    "extEfield = np.zeros(3)\n",
    "\n",
    "for i in range(50):\n",
    "    density = chargeDensity(initposition, Nx, chargeAnsMass)\n",
    "    phi = poissonSolver(density, Nx)\n",
    "    electricfield_x, electricfield_y = elctricfieldsolver(\n",
    "        phi, Nx)\n",
    "    for n in tqdm(range(n)):\n",
    "        initposition[n], velocity[n] = BorisPush(initposition[n], velocity[n], np.array(\n",
    "            [electricfield_x, electricfield_y]),extEfield, magneticfield, chargeAnsMass, dt, timeofrun)\n",
    "        initposition[n, 0] = initposition[n, 0] % (\n",
    "            gridSize*Nx)\n",
    "        initposition[n, 1] = initposition[n, 1] % (\n",
    "            gridSize*Nx)\n",
    "    plt.plot(initposition[:,0], velocity[:,0])\n",
    "\n",
    "    "
   ]
  },
  {
   "cell_type": "code",
   "execution_count": null,
   "metadata": {},
   "outputs": [],
   "source": []
  },
  {
   "cell_type": "code",
   "execution_count": null,
   "metadata": {},
   "outputs": [],
   "source": []
  },
  {
   "cell_type": "code",
   "execution_count": null,
   "metadata": {},
   "outputs": [],
   "source": []
  },
  {
   "cell_type": "code",
   "execution_count": null,
   "metadata": {},
   "outputs": [],
   "source": []
  },
  {
   "cell_type": "code",
   "execution_count": null,
   "metadata": {},
   "outputs": [],
   "source": []
  },
  {
   "cell_type": "code",
   "execution_count": null,
   "metadata": {},
   "outputs": [],
   "source": []
  },
  {
   "cell_type": "code",
   "execution_count": null,
   "metadata": {},
   "outputs": [],
   "source": []
  },
  {
   "cell_type": "code",
   "execution_count": null,
   "metadata": {},
   "outputs": [],
   "source": []
  },
  {
   "cell_type": "code",
   "execution_count": null,
   "metadata": {},
   "outputs": [],
   "source": []
  },
  {
   "cell_type": "code",
   "execution_count": null,
   "metadata": {},
   "outputs": [],
   "source": []
  },
  {
   "cell_type": "code",
   "execution_count": null,
   "metadata": {},
   "outputs": [],
   "source": []
  },
  {
   "cell_type": "code",
   "execution_count": null,
   "metadata": {},
   "outputs": [],
   "source": []
  },
  {
   "cell_type": "code",
   "execution_count": null,
   "metadata": {},
   "outputs": [],
   "source": []
  },
  {
   "cell_type": "code",
   "execution_count": null,
   "metadata": {},
   "outputs": [],
   "source": []
  },
  {
   "cell_type": "code",
   "execution_count": null,
   "metadata": {},
   "outputs": [],
   "source": []
  },
  {
   "cell_type": "code",
   "execution_count": null,
   "metadata": {},
   "outputs": [],
   "source": []
  },
  {
   "cell_type": "code",
   "execution_count": null,
   "metadata": {},
   "outputs": [],
   "source": []
  },
  {
   "cell_type": "code",
   "execution_count": null,
   "metadata": {},
   "outputs": [],
   "source": []
  },
  {
   "cell_type": "code",
   "execution_count": 5,
   "metadata": {},
   "outputs": [],
   "source": [
    "# required constants\n",
    "# mass = 1\n",
    "charge1 = 1\n",
    "mass1 = 1800\n",
    "charge2 = -1\n",
    "mass2 = 1\n",
    "\n",
    "numberOfparticleinEachCell = 1\n",
    "numberOfparticleinbeam = 1000\n",
    "gridSize = 1\n",
    "numberOfgridcell = 3\n",
    "numberofparticle = numberOfparticleinEachCell * \\\n",
    "    numberOfgridcell*numberOfgridcell + 2*numberOfparticleinbeam\n",
    "timeofrun = 0.1\n",
    "dt = 0.01\n",
    "magneticfield = np.array([0, 0, 0])\n",
    "electricfield = np.array([0, 0, 0])\n",
    "velocity = np.zeros([numberofparticle, 3])\n",
    "\n",
    "\n",
    "velocity[-2*numberOfparticleinbeam:-numberOfparticleinbeam, 0] = -10000\n",
    "velocity[-numberOfparticleinbeam:, 0] = 10000\n",
    "# velocity[:,1] = 10\n",
    "\n",
    "x = np.linspace(0, numberOfgridcell*gridSize, numberOfgridcell+1)\n",
    "y = np.linspace(0, numberOfgridcell*gridSize, numberOfgridcell+1)\n",
    "x_grid, y_grid = np.meshgrid(x, y)\n",
    "# x, y = np.meshgrid(x, y)\n",
    "\n",
    "initposition1, chargeAnsMass1 = initialPos(\n",
    "    charge1, numberOfparticleinbeam, numberOfgridcell, gridSize, mass1)\n",
    "initposition1[:, 1] = 7\n",
    "initposition2, chargeAnsMass2 = initialPos(\n",
    "    charge2, numberOfparticleinbeam, numberOfgridcell, gridSize, mass2)\n",
    "initposition2[:, 1] = 13\n",
    "initposition = np.concatenate((initposition1, initposition2), axis=0)\n",
    "\n",
    "\n",
    "initposition3, chargeAnsMass3 = particleDistribution(\n",
    "    numberOfparticleinEachCell, numberOfgridcell, charge1, charge2, mass1, mass2)\n",
    "\n",
    "initposition = np.concatenate(\n",
    "    (initposition1, initposition2, initposition3), axis=0)\n",
    "chargeAnsMass = np.concatenate(\n",
    "    (chargeAnsMass1, chargeAnsMass2, chargeAnsMass3), axis=0)\n",
    "\n",
    "# initposition = initposition1\n",
    "# density = chargeDensity(initposition, numberOfgridcell)\n"
   ]
  },
  {
   "cell_type": "code",
   "execution_count": 40,
   "metadata": {},
   "outputs": [],
   "source": [
    "# initposition.shape\n"
   ]
  },
  {
   "cell_type": "code",
   "execution_count": 39,
   "metadata": {},
   "outputs": [],
   "source": [
    "# chargeAnsMass\n"
   ]
  },
  {
   "cell_type": "code",
   "execution_count": 38,
   "metadata": {},
   "outputs": [],
   "source": [
    "# plt.figure(figsize=(6, 6), dpi=100)\n",
    "# plt.plot(x_grid, y_grid, c='b', alpha=0.3)\n",
    "# plt.plot(y_grid, x_grid, c='b', alpha=0.3)\n",
    "# plt.ylim(len(x) + 0.5, -0.5)\n",
    "\n",
    "# # plt.scatter(initposition[-2*numberOfparticleinbeam:, 0], initposition[-2*numberOfparticleinbeam:, 1], c= initposition[-2*numberOfparticleinbeam:,2], cmap = 'rainbow', s = 1)\n",
    "# plt.scatter(initposition[:, 0], initposition[:, 1], c=chargeAnsMass[:,0], cmap = 'rainbow', s = 1)\n",
    "# plt.show()\n",
    "\n",
    "# # plt.figure(figsize=(6, 6), dpi=100)\n",
    "# # plt.plot(x_grid,y_grid, c='b', alpha=0.3)\n",
    "# # plt.plot(y_grid,x_grid, c='b', alpha=0.3)\n",
    "# # plt.scatter(x_grid,y_grid, s= np.abs(density)*200, c=density)\n",
    "# # plt.colorbar()\n",
    "# # plt.show()\n"
   ]
  },
  {
   "cell_type": "code",
   "execution_count": null,
   "metadata": {},
   "outputs": [],
   "source": [
    "# Main PIC loop\n",
    "N = 50\n",
    "\n",
    "for i in range(N):\n",
    "    density = chargeDensity(initposition, numberOfgridcell, chargeAnsMass)\n",
    "    phi = poissonSolver(density, numberOfgridcell)\n",
    "    electricfield_x, electricfield_y = elctricfieldsolver(\n",
    "        phi, numberOfgridcell)\n",
    "    for n in tqdm(range(numberofparticle)):\n",
    "        initposition[n], velocity[n] = BorisPush(initposition[n], velocity[n], np.array(\n",
    "            [electricfield_x, electricfield_y]), magneticfield, chargeAnsMass[n], dt, timeofrun)\n",
    "        initposition[n, 0] = initposition[n, 0] % (\n",
    "            gridSize*numberOfgridcell)\n",
    "        initposition[n, 1] = initposition[n, 1] % (\n",
    "            gridSize*numberOfgridcell)\n",
    "\n",
    "    # plt.figure(figsize=(6, 6), dpi=100)\n",
    "    # plt.plot(x_grid, y_grid, c='b', alpha=0.3)\n",
    "    # plt.ylim(len(x) + 0.5, -0.5)\n",
    "    # plt.plot(y_grid, x_grid, c='b', alpha=0.3)\n",
    "    # plt.scatter(initposition[:, 0], initposition[:, 1], c= initposition[:,2], s=1, cmap = 'rainbow')\n",
    "    # plt.show()\n",
    "    # plt.figure(figsize=(10, 10), dpi=150)\n",
    "    # plt.scatter(initposition[:,0], velocity[:,0])\n",
    "    # plt.show()\n",
    "\n",
    "    plt.figure(figsize=(6, 6), dpi=100)\n",
    "    plt.plot(x_grid, y_grid, c='b', alpha=0.3)\n",
    "    plt.plot(y_grid, x_grid, c='b', alpha=0.3)\n",
    "    plt.ylim(len(x) + 0.5, -0.5)\n",
    "    plt.scatter(initposition[:, 0], initposition[:, 1],\n",
    "                c=chargeAnsMass[:, 0], cmap='rainbow', s=1)\n",
    "    plt.show()\n"
   ]
  },
  {
   "cell_type": "code",
   "execution_count": 15,
   "metadata": {},
   "outputs": [],
   "source": [
    "# x = np.linspace(0, 100, 101)\n",
    "# y = x**2\n",
    "\n",
    "# fig = plt.figure(figsize=(10, 10))\n",
    "# ax1 = plt.subplot2grid((15, 15), (0, 0), colspan=10, rowspan=4)\n",
    "# ax2 = plt.subplot2grid((15, 15), (4, 0), colspan=10, rowspan=10)\n",
    "# ax3 = plt.subplot2grid((15, 15), (4, 10), colspan=4, rowspan=10)\n",
    "# ax1.plot(x, y)\n",
    "# ax3.plot(y, y)\n",
    "# ax2.scatter(y, x, c=x)\n",
    "# ax3.set_yticks([])\n",
    "# ax1.set_xticks([])\n",
    "# plt.colorbar()\n",
    "# plt.show()\n"
   ]
  },
  {
   "cell_type": "markdown",
   "metadata": {},
   "source": [
    "## Simple Hormonic Motion\n"
   ]
  },
  {
   "cell_type": "code",
   "execution_count": 69,
   "metadata": {},
   "outputs": [],
   "source": [
    "charge1 = 1\n",
    "charge2 = -50\n",
    "\n",
    "mass1 = 1\n",
    "mass2 = 1\n",
    "\n",
    "numberOfgridcell = 5\n",
    "numberofparticle = 1\n",
    "\n",
    "# initposition = np.array([[2.5,2.5 , 0]])\n",
    "# initposition = np.array([[2, 2, 0], [2, 3, 0]])\n",
    "initposition = np.array([[2, 2, 0]])\n",
    "# initposition = np.array([[numberOfgridcell/2, numberOfgridcell/2, 0], [0.5, numberOfgridcell/2, 0]])\n",
    "\n",
    "\n",
    "timeofrun = 0.1\n",
    "dt = 0.01\n",
    "gridSize = 1\n",
    "\n",
    "x = np.linspace(0, numberOfgridcell*gridSize, numberOfgridcell+1)\n",
    "y = np.linspace(0, numberOfgridcell*gridSize, numberOfgridcell+1)\n",
    "\n",
    "x_grid, y_grid = np.meshgrid(x, y)\n",
    "\n",
    "magneticfield = np.array([0, 0, 0])\n",
    "extEfield = np.array([0, 0, 0])\n",
    "velocity = np.zeros([numberofparticle, 3])\n",
    "\n",
    "# chargeAnsMass = np.array([[charge1, mass1], [charge2, mass2]])\n",
    "chargeAnsMass = np.array([[charge1, mass1]])\n"
   ]
  },
  {
   "cell_type": "code",
   "execution_count": 70,
   "metadata": {},
   "outputs": [],
   "source": [
    "density = chargeDensity(initposition, numberOfgridcell, chargeAnsMass)\n",
    "phi = poissonSolver(density, numberOfgridcell)\n",
    "electricfield_x, electricfield_y = np.gradient(phi)[0], np.gradient(phi)[1]"
   ]
  },
  {
   "cell_type": "code",
   "execution_count": 88,
   "metadata": {},
   "outputs": [
    {
     "data": {
      "text/plain": [
       "array([ 0.5 ,  0.75,  1.5 ,  3.  ,  6.  , 12.  , 24.  , 32.  ])"
      ]
     },
     "execution_count": 88,
     "metadata": {},
     "output_type": "execute_result"
    }
   ],
   "source": [
    "a = np.array([1,2,4,8,16,32,64,128])\n",
    "np.gradient(a,2)"
   ]
  },
  {
   "cell_type": "code",
   "execution_count": 59,
   "metadata": {},
   "outputs": [
    {
     "name": "stderr",
     "output_type": "stream",
     "text": [
      "/tmp/ipykernel_5274/2400272777.py:6: RuntimeWarning: divide by zero encountered in true_divide\n",
      "  plt.plot(r, k/r, label = '1/r');\n"
     ]
    },
    {
     "data": {
      "image/png": "[encoded data removed]",
      "text/plain": [
       "<Figure size 432x288 with 1 Axes>"
      ]
     },
     "metadata": {
      "needs_background": "light"
     },
     "output_type": "display_data"
    }
   ],
   "source": [
    "r = np.linspace(0,122,123)\n",
    "k = 0.26\n",
    "l = 2\n",
    "plt.ylim(0, 0.1)\n",
    "plt.plot(r, abs(phi[50,:]));\n",
    "plt.plot(r, k/r, label = '1/r');\n",
    "# plt.plot(r, l/r**2, label = '1/r^2');\n",
    "plt.legend();"
   ]
  },
  {
   "cell_type": "code",
   "execution_count": 14,
   "metadata": {},
   "outputs": [],
   "source": [
    "# plt.figure(figsize=(10,6), dpi = 100)\n",
    "# plt.plot(x, abs(phi[int(numberOfgridcell/2)][1:-1]))\n",
    "# plt.ylabel('Phi')\n",
    "# plt.xlabel('x')\n",
    "# plt.plot(x, 10/x)"
   ]
  },
  {
   "cell_type": "code",
   "execution_count": 20,
   "metadata": {},
   "outputs": [
    {
     "data": {
      "text/plain": [
       "array([[-0.03, -0.05, -0.07, -0.07, -0.04, -0.02],\n",
       "       [-0.05, -0.12, -0.18, -0.14, -0.09, -0.04],\n",
       "       [-0.07, -0.18, -0.37, -0.25, -0.12, -0.05],\n",
       "       [-0.07, -0.14, -0.25, -0.19, -0.11, -0.05],\n",
       "       [-0.04, -0.09, -0.12, -0.11, -0.07, -0.03],\n",
       "       [-0.02, -0.04, -0.05, -0.05, -0.03, -0.02]])"
      ]
     },
     "execution_count": 20,
     "metadata": {},
     "output_type": "execute_result"
    }
   ],
   "source": [
    "np.round(phi[1:-1,1:-1], 2)"
   ]
  },
  {
   "cell_type": "code",
   "execution_count": 10,
   "metadata": {},
   "outputs": [
    {
     "data": {
      "text/plain": [
       "array([[[  0.  ,   0.  ,   0.  ,   0.  ,   0.  ,   0.  ,   0.  ,   0.  ],\n",
       "        [ -1.11,  -1.11,  -2.25,  -3.1 ,  -2.52,  -1.6 ,  -0.76,  -0.76],\n",
       "        [ -2.32,  -2.32,  -5.18,  -8.36,  -5.77,  -3.24,  -1.43,  -1.43],\n",
       "        [ -2.  ,  -2.  ,  -5.93, -17.01,  -6.85,  -2.66,  -0.97,  -0.97],\n",
       "        [  0.26,   0.26,   0.48,   0.59,   0.56,   0.42,   0.22,   0.22],\n",
       "        [  2.58,   2.58,   6.99,  18.32,   8.07,   3.56,   1.43,   1.43],\n",
       "        [  1.52,   1.52,   3.51,   5.98,   3.92,   2.12,   0.92,   0.92],\n",
       "        [  0.  ,   0.  ,   0.  ,   0.  ,   0.  ,   0.  ,   0.  ,   0.  ]],\n",
       "\n",
       "       [[  0.  ,  -0.88,  -1.37,  -0.25,   0.87,   1.38,   0.74,   0.  ],\n",
       "        [  0.  ,  -0.88,  -1.37,  -0.25,   0.87,   1.38,   0.74,   0.  ],\n",
       "        [  0.  ,  -2.02,  -3.36,  -0.52,   2.37,   3.14,   1.59,   0.  ],\n",
       "        [  0.  ,  -3.74,  -7.41,  -0.84,   5.99,   5.72,   2.55,   0.  ],\n",
       "        [  0.  ,  -5.95, -18.37,  -1.44,  16.73,   9.02,   3.28,   0.  ],\n",
       "        [  0.  ,  -3.52,  -7.08,  -0.76,   5.83,   5.39,   2.35,   0.  ],\n",
       "        [  0.  ,  -1.54,  -2.63,  -0.36,   1.96,   2.39,   1.16,   0.  ],\n",
       "        [  0.  ,  -1.54,  -2.63,  -0.36,   1.96,   2.39,   1.16,   0.  ]]])"
      ]
     },
     "execution_count": 10,
     "metadata": {},
     "output_type": "execute_result"
    }
   ],
   "source": [
    "test = np.gradient(phi)\n",
    "np.round(test,2)"
   ]
  },
  {
   "cell_type": "code",
   "execution_count": 22,
   "metadata": {},
   "outputs": [
    {
     "data": {
      "text/plain": [
       "array([[ 0.  , -0.03, -0.02,  0.01,  0.02,  0.02,  0.  ],\n",
       "       [ 0.  , -0.06, -0.06,  0.03,  0.06,  0.05,  0.  ],\n",
       "       [ 0.  , -0.1 , -0.2 ,  0.12,  0.12,  0.07,  0.  ],\n",
       "       [ 0.  , -0.08, -0.1 ,  0.06,  0.08,  0.06,  0.  ],\n",
       "       [ 0.  , -0.04, -0.04,  0.02,  0.04,  0.04,  0.  ],\n",
       "       [ 0.  , -0.02, -0.01,  0.  ,  0.01,  0.02,  0.  ]])"
      ]
     },
     "execution_count": 22,
     "metadata": {},
     "output_type": "execute_result"
    }
   ],
   "source": [
    "Ex = np.round(electricfield_x, 2)\n",
    "Ex"
   ]
  },
  {
   "cell_type": "code",
   "execution_count": 21,
   "metadata": {},
   "outputs": [
    {
     "data": {
      "text/plain": [
       "array([[ 0.  ,  0.  ,  0.  ,  0.  ,  0.  ,  0.  ],\n",
       "       [-0.03, -0.06, -0.1 , -0.08, -0.04, -0.02],\n",
       "       [-0.02, -0.06, -0.2 , -0.1 , -0.04, -0.01],\n",
       "       [ 0.01,  0.03,  0.12,  0.06,  0.02,  0.  ],\n",
       "       [ 0.02,  0.06,  0.12,  0.08,  0.04,  0.01],\n",
       "       [ 0.02,  0.05,  0.07,  0.06,  0.04,  0.02],\n",
       "       [ 0.  ,  0.  ,  0.  ,  0.  ,  0.  ,  0.  ]])"
      ]
     },
     "execution_count": 21,
     "metadata": {},
     "output_type": "execute_result"
    }
   ],
   "source": [
    "Ey = np.round(electricfield_y, 2)\n",
    "Ey"
   ]
  },
  {
   "cell_type": "code",
   "execution_count": 47,
   "metadata": {},
   "outputs": [],
   "source": [
    "x = 2.49\n",
    "y = 1.45\n",
    "\n",
    "i = int(x)\n",
    "if y < (int(y) + 0.5):\n",
    "    j = int(y)\n",
    "else:\n",
    "    j = int(y) + 1\n",
    "\n",
    "l1 = x - i\n",
    "l3 = i + 1 - x\n",
    "l2 = y - j + 0.5\n",
    "l4 = j + 0.5 - y"
   ]
  },
  {
   "cell_type": "code",
   "execution_count": 63,
   "metadata": {},
   "outputs": [
    {
     "data": {
      "text/plain": [
       "-0.49250000000000005"
      ]
     },
     "execution_count": 63,
     "metadata": {},
     "output_type": "execute_result"
    }
   ],
   "source": [
    "-14.7*0.5*0.05 - 14.5*0.5*0.05 + 0.3*0.95*0.5 + 0.2*0.5*0.95"
   ]
  },
  {
   "cell_type": "code",
   "execution_count": 23,
   "metadata": {},
   "outputs": [
    {
     "ename": "IndexError",
     "evalue": "index 10 is out of bounds for axis 0 with size 7",
     "output_type": "error",
     "traceback": [
      "\u001b[0;31m---------------------------------------------------------------------------\u001b[0m",
      "\u001b[0;31mIndexError\u001b[0m                                Traceback (most recent call last)",
      "\u001b[1;32m/home/avinash/Desktop/M.Sc Thesis/ePic2.0.ipynb Cell 25\u001b[0m in \u001b[0;36m<cell line: 2>\u001b[0;34m()\u001b[0m\n\u001b[1;32m      <a href='vscode-notebook-cell:/home/avinash/Desktop/M.Sc%20Thesis/ePic2.0.ipynb#X31sZmlsZQ%3D%3D?line=0'>1</a>\u001b[0m FieldweightingY(\u001b[39m2.2\u001b[39m, \u001b[39m2.2\u001b[39m, electricfield_y)\n\u001b[0;32m----> <a href='vscode-notebook-cell:/home/avinash/Desktop/M.Sc%20Thesis/ePic2.0.ipynb#X31sZmlsZQ%3D%3D?line=1'>2</a>\u001b[0m FieldweightingY(numberOfgridcell\u001b[39m/\u001b[39;49m\u001b[39m2\u001b[39;49m\u001b[39m+\u001b[39;49m\u001b[39m.5\u001b[39;49m, \u001b[39m10\u001b[39;49m, electricfield_y)\n",
      "\u001b[1;32m/home/avinash/Desktop/M.Sc Thesis/ePic2.0.ipynb Cell 25\u001b[0m in \u001b[0;36mFieldweightingY\u001b[0;34m(x, y, Ey)\u001b[0m\n\u001b[1;32m    <a href='vscode-notebook-cell:/home/avinash/Desktop/M.Sc%20Thesis/ePic2.0.ipynb#X31sZmlsZQ%3D%3D?line=179'>180</a>\u001b[0m l2 \u001b[39m=\u001b[39m y \u001b[39m-\u001b[39m j \u001b[39m+\u001b[39m \u001b[39m0.5\u001b[39m\n\u001b[1;32m    <a href='vscode-notebook-cell:/home/avinash/Desktop/M.Sc%20Thesis/ePic2.0.ipynb#X31sZmlsZQ%3D%3D?line=180'>181</a>\u001b[0m l4 \u001b[39m=\u001b[39m j \u001b[39m+\u001b[39m \u001b[39m0.5\u001b[39m \u001b[39m-\u001b[39m y\n\u001b[0;32m--> <a href='vscode-notebook-cell:/home/avinash/Desktop/M.Sc%20Thesis/ePic2.0.ipynb#X31sZmlsZQ%3D%3D?line=182'>183</a>\u001b[0m Eyw \u001b[39m=\u001b[39m Ey[j, i]\u001b[39m*\u001b[39ml3\u001b[39m*\u001b[39ml4 \u001b[39m+\u001b[39m Ey[j, i\u001b[39m+\u001b[39m\u001b[39m1\u001b[39m]\u001b[39m*\u001b[39ml1\u001b[39m*\u001b[39ml4 \u001b[39m+\u001b[39m \\\n\u001b[1;32m    <a href='vscode-notebook-cell:/home/avinash/Desktop/M.Sc%20Thesis/ePic2.0.ipynb#X31sZmlsZQ%3D%3D?line=183'>184</a>\u001b[0m     Ey[j\u001b[39m+\u001b[39m\u001b[39m1\u001b[39m, i]\u001b[39m*\u001b[39ml2\u001b[39m*\u001b[39ml3 \u001b[39m+\u001b[39m Ey[j\u001b[39m+\u001b[39m\u001b[39m1\u001b[39m, i\u001b[39m+\u001b[39m\u001b[39m1\u001b[39m]\u001b[39m*\u001b[39ml1\u001b[39m*\u001b[39ml2\n\u001b[1;32m    <a href='vscode-notebook-cell:/home/avinash/Desktop/M.Sc%20Thesis/ePic2.0.ipynb#X31sZmlsZQ%3D%3D?line=184'>185</a>\u001b[0m \u001b[39mreturn\u001b[39;00m Eyw\n",
      "\u001b[0;31mIndexError\u001b[0m: index 10 is out of bounds for axis 0 with size 7"
     ]
    }
   ],
   "source": [
    "FieldweightingY(2.2, 2.2, electricfield_y)\n",
    "FieldweightingY(numberOfgridcell/2+.5, 10, electricfield_y)"
   ]
  },
  {
   "cell_type": "code",
   "execution_count": 66,
   "metadata": {},
   "outputs": [
    {
     "data": {
      "text/plain": [
       "0.018729101909503054"
      ]
     },
     "execution_count": 66,
     "metadata": {},
     "output_type": "execute_result"
    }
   ],
   "source": [
    "FieldweightingX(10, numberOfgridcell/2+.5, electricfield_x)\n",
    "FieldweightingX(numberOfgridcell/2+.5, 10, electricfield_x)\n"
   ]
  },
  {
   "cell_type": "code",
   "execution_count": 63,
   "metadata": {},
   "outputs": [],
   "source": [
    "# plt.streamplot(x, y, electricfield_x,electricfield_y)"
   ]
  },
  {
   "cell_type": "code",
   "execution_count": 64,
   "metadata": {},
   "outputs": [],
   "source": [
    "# field weighting\n",
    "def FieldweightingX(x, y, Ex):\n",
    "    if x <= (int(x) + 0.5):\n",
    "        i = int(x)\n",
    "    else:\n",
    "        i = int(x) + 1\n",
    "\n",
    "    j = int(y)\n",
    "\n",
    "    l1 = x - i + 0.5\n",
    "    l3 = i + 0.5 - x\n",
    "    l2 = y - j\n",
    "    l4 = j + 1 - y\n",
    "\n",
    "    Exw = Ex[j, i]*l3*l4 + Ex[j, i+1]*l1*l4 + \\\n",
    "        Ex[j+1, i]*l2*l3 + Ex[j+1, i+1]*l1*l2\n",
    "    return Exw\n",
    "\n",
    "\n",
    "def FieldweightingY(x, y, Ey):\n",
    "    i = int(x)\n",
    "    if y <= (int(y) + 0.5):\n",
    "        j = int(y)\n",
    "    else:\n",
    "        j = int(y) + 1\n",
    "\n",
    "    l1 = x - i\n",
    "    l3 = i + 1 - x\n",
    "    l2 = y - j + 0.5\n",
    "    l4 = j + 0.5 - y\n",
    "\n",
    "    Eyw = Ey[j, i]*l3*l4 + Ey[j, i+1]*l1*l4 + \\\n",
    "        Ey[j+1, i]*l2*l3 + Ey[j+1, i+1]*l1*l2\n",
    "    return Eyw"
   ]
  },
  {
   "cell_type": "code",
   "execution_count": 49,
   "metadata": {},
   "outputs": [
    {
     "data": {
      "text/plain": [
       "array([[2.49, 1.45, 0.  ]])"
      ]
     },
     "execution_count": 49,
     "metadata": {},
     "output_type": "execute_result"
    }
   ],
   "source": [
    "initposition"
   ]
  },
  {
   "cell_type": "code",
   "execution_count": 128,
   "metadata": {},
   "outputs": [
    {
     "data": {
      "text/plain": [
       "array([[7, 7, 0, 6, 6],\n",
       "       [7, 7, 0, 6, 6],\n",
       "       [7, 7, 8, 3, 3],\n",
       "       [1, 1, 2, 2, 2],\n",
       "       [1, 1, 2, 2, 2]])"
      ]
     },
     "execution_count": 128,
     "metadata": {},
     "output_type": "execute_result"
    }
   ],
   "source": [
    "N = 3\n",
    "phi =  np.random.randint(0,10, size=(N+2,N+2))\n",
    "phi[0], phi[-1], phi[:,0], phi[:,-1] = phi[1], phi[-2], phi[:,1], phi[:,-2]\n",
    "phi"
   ]
  },
  {
   "cell_type": "code",
   "execution_count": 129,
   "metadata": {},
   "outputs": [
    {
     "data": {
      "text/plain": [
       "array([[ 0.,  0.,  0.,  0.,  0.],\n",
       "       [ 0., -7.,  6.,  0.,  0.],\n",
       "       [ 0.,  1., -5.,  0.,  0.],\n",
       "       [ 0.,  1.,  0.,  0.,  0.],\n",
       "       [ 0.,  0.,  0.,  0.,  0.]])"
      ]
     },
     "execution_count": 129,
     "metadata": {},
     "output_type": "execute_result"
    }
   ],
   "source": [
    "b = np.zeros([N+2, N+2])\n",
    "# electricfield_y = np.zeros([N+3, N+3])\n",
    "# electricfield_z = np.zeros([N+1, N+1])\n",
    "\n",
    "for i in range(1,N+1):\n",
    "    for j in range(N+1):\n",
    "        b[i,j] = phi[i, j+1] - phi[i, j]\n",
    "b"
   ]
  },
  {
   "cell_type": "code",
   "execution_count": 92,
   "metadata": {},
   "outputs": [
    {
     "data": {
      "text/plain": [
       "3"
      ]
     },
     "execution_count": 92,
     "metadata": {},
     "output_type": "execute_result"
    }
   ],
   "source": []
  },
  {
   "cell_type": "code",
   "execution_count": null,
   "metadata": {},
   "outputs": [],
   "source": [
    "def forceWeigting(p, E):\n",
    "    \n",
    "\n",
    "    Eap = 0\n",
    "    return Eap"
   ]
  },
  {
   "cell_type": "code",
   "execution_count": 24,
   "metadata": {},
   "outputs": [
    {
     "name": "stdout",
     "output_type": "stream",
     "text": [
      "11.896363636363638\n"
     ]
    }
   ],
   "source": [
    "# print(fieldAtparticlepos(np.array([2, 2.5, 0]), electricfield_x))"
   ]
  },
  {
   "cell_type": "code",
   "execution_count": 214,
   "metadata": {},
   "outputs": [
    {
     "name": "stdout",
     "output_type": "stream",
     "text": [
      "[[ -1.91   -1.508  -0.35    0.772   1.212   1.25    1.215]\n",
      " [ -4.367  -3.64   -0.666   2.226   2.827   2.61    2.434]\n",
      " [ -8.05   -7.907  -0.898   5.969   5.261   4.041   3.531]\n",
      " [-12.818 -19.441  -0.987  17.289   8.205   5.008   4.094]\n",
      " [ -8.05   -7.907  -0.898   5.969   5.261   4.041   3.531]\n",
      " [ -4.367  -3.64   -0.666   2.226   2.827   2.61    2.434]\n",
      " [ -1.91   -1.508  -0.35    0.772   1.212   1.25    1.215]]\n"
     ]
    }
   ],
   "source": [
    "print(np.round(electricfield_x, 3))"
   ]
  },
  {
   "cell_type": "code",
   "execution_count": 204,
   "metadata": {},
   "outputs": [],
   "source": []
  },
  {
   "cell_type": "code",
   "execution_count": 217,
   "metadata": {},
   "outputs": [
    {
     "data": {
      "text/plain": [
       "0.0"
      ]
     },
     "execution_count": 217,
     "metadata": {},
     "output_type": "execute_result"
    }
   ],
   "source": [
    "a = np.array([2,3,0])\n",
    "np.round(fieldAtparticlepos(initposition[0], electricfield_y),3)"
   ]
  },
  {
   "cell_type": "code",
   "execution_count": 203,
   "metadata": {},
   "outputs": [
    {
     "data": {
      "text/plain": [
       "array([3, 2, 0])"
      ]
     },
     "execution_count": 203,
     "metadata": {},
     "output_type": "execute_result"
    }
   ],
   "source": [
    "# initposition[0]"
   ]
  },
  {
   "cell_type": "code",
   "execution_count": 14,
   "metadata": {},
   "outputs": [
    {
     "data": {
      "image/png": "[encoded data removed]",
      "text/plain": [
       "<Figure size 432x288 with 2 Axes>"
      ]
     },
     "metadata": {
      "needs_background": "light"
     },
     "output_type": "display_data"
    }
   ],
   "source": [
    "plt.plot(x_grid, y_grid, c='b', alpha=0.1)\n",
    "plt.plot(y_grid, x_grid, c='b', alpha=0.1)\n",
    "plt.scatter(x_grid, y_grid, s = abs(density))\n",
    "plt.scatter(initposition[:, 0], initposition[:, 1],\n",
    "            c=chargeAnsMass[:, 0], cmap='rainbow')\n",
    "plt.colorbar();"
   ]
  },
  {
   "cell_type": "code",
   "execution_count": null,
   "metadata": {},
   "outputs": [],
   "source": [
    "# # Main PIC loop\n",
    "# N = 100\n",
    "\n",
    "# # plt.figure(figsize=(10, 10), dpi=150)\n",
    "# # print(initposition)\n",
    "# for i in tqdm(range(N)):\n",
    "#     density = chargeDensity(initposition, numberOfgridcell, chargeAnsMass)\n",
    "#     phi = poissonSolver(density, numberOfgridcell)\n",
    "#     electricfield_x, electricfield_y = elctricfieldsolver(\n",
    "#         phi, numberOfgridcell)\n",
    "#     eField = np.array([electricfield_x, electricfield_y])\n",
    "#     for n in (range(1, 2)):\n",
    "#         initposition[n], velocity[n] = BorisPush(\n",
    "#             initposition[n], velocity[n], eField, extEfield, magneticfield, chargeAnsMass[n], dt, timeofrun)\n",
    "#         initposition[n, 0] = initposition[n, 0] % (gridSize*numberOfgridcell)\n",
    "#         initposition[n, 1] = initposition[n, 1] % (gridSize*numberOfgridcell)\n",
    "\n",
    "#     plt.plot(x_grid, y_grid, c='b')\n",
    "#     plt.plot(y_grid, x_grid, c='b')\n",
    "#     plt.scatter(initposition[:, 0], initposition[:, 1],\n",
    "#                 c=chargeAnsMass[:, 0], cmap='rainbow')\n",
    "#     # plt.show()\n",
    "#     print(fieldAtparticlepos(initposition[1], electricfield_y))\n",
    "#     # print(eField)\n"
   ]
  },
  {
   "cell_type": "code",
   "execution_count": 180,
   "metadata": {},
   "outputs": [
    {
     "data": {
      "text/plain": [
       "array([[ -2.,  -5.,  -7.,  -9.,  -7.,  -5.,  -2.],\n",
       "       [ -4.,  -9., -15., -22., -15.,  -9.,  -4.],\n",
       "       [ -5., -12., -23., -48., -23., -12.,  -5.],\n",
       "       [ -5., -10., -17., -24., -17., -10.,  -5.],\n",
       "       [ -4.,  -7., -11., -13., -11.,  -7.,  -4.],\n",
       "       [ -2.,  -5.,  -7.,  -7.,  -7.,  -5.,  -2.],\n",
       "       [ -1.,  -2.,  -3.,  -3.,  -3.,  -2.,  -1.]])"
      ]
     },
     "execution_count": 180,
     "metadata": {},
     "output_type": "execute_result"
    }
   ],
   "source": [
    "np.round(phi,0)\n",
    "\n",
    "newx\n",
    "newy = np.linspace(0.5)"
   ]
  },
  {
   "cell_type": "code",
   "execution_count": null,
   "metadata": {},
   "outputs": [],
   "source": []
  }
 ],
 "metadata": {
  "kernelspec": {
   "display_name": "Python 3.10.4 64-bit",
   "language": "python",
   "name": "python3"
  },
  "language_info": {
   "codemirror_mode": {
    "name": "ipython",
    "version": 3
   },
   "file_extension": ".py",
   "mimetype": "text/x-python",
   "name": "python",
   "nbconvert_exporter": "python",
   "pygments_lexer": "ipython3",
   "version": "3.10.4"
  },
  "orig_nbformat": 4,
  "vscode": {
   "interpreter": {
    "hash": "916dbcbb3f70747c44a77c7bcd40155683ae19c65e1c03b4aa3499c5328201f1"
   }
  }
 },
 "nbformat": 4,
 "nbformat_minor": 2
}
