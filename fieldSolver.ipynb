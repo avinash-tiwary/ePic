{
 "cells": [
  {
   "cell_type": "code",
   "execution_count": 1,
   "metadata": {},
   "outputs": [],
   "source": [
    "import numpy as np\n",
    "import matplotlib.pyplot as plt\n",
    "import scipy\n",
    "import math\n",
    "from scipy.linalg import block_diag\n"
   ]
  },
  {
   "cell_type": "code",
   "execution_count": 2,
   "metadata": {},
   "outputs": [],
   "source": [
    "numberOfgridcell = 2\n",
    "gridSize = 1\n",
    "h = gridSize\n",
    "numberOfparticles = 5\n",
    "chargeOnParticle = 1"
   ]
  },
  {
   "cell_type": "code",
   "execution_count": 3,
   "metadata": {},
   "outputs": [],
   "source": [
    "def MeshGrid(gridSize, numberOfgridcell):\n",
    "    x = np.linspace(0, numberOfgridcell*gridSize, numberOfgridcell+1)\n",
    "    y = np.linspace(0, numberOfgridcell*gridSize, numberOfgridcell+1)\n",
    "    x_grid, y_grid = np.meshgrid(x, y)\n",
    "    return x, y, x_grid, y_grid"
   ]
  },
  {
   "cell_type": "code",
   "execution_count": 4,
   "metadata": {},
   "outputs": [],
   "source": [
    "def InitialparticleDistribution(numberOfparticles,chargeOnParticle, gridSize, numberOfgridcell):\n",
    "    particlePositionandCherge = np.random.uniform(0,\n",
    "                                           numberOfgridcell*gridSize, size=(numberOfparticles, 3))\n",
    "    particlePositionandCherge[:,2] = chargeOnParticle\n",
    "    return particlePositionandCherge"
   ]
  },
  {
   "cell_type": "code",
   "execution_count": 5,
   "metadata": {},
   "outputs": [],
   "source": [
    "def densityinaGrid(particlePositionandCherge, numberOfparticles, numberOfgridcell):\n",
    "    densityInagrid = np.zeros((numberOfgridcell, numberOfgridcell))\n",
    "\n",
    "    for i in range(numberOfparticles):\n",
    "        densityInagrid[int(particlePositionandCherge[i, 1]),\n",
    "                       int(particlePositionandCherge[i, 0])] += particlePositionandCherge[i,2]\n",
    "    return densityInagrid"
   ]
  },
  {
   "cell_type": "code",
   "execution_count": 6,
   "metadata": {},
   "outputs": [],
   "source": [
    "def poissonSolver(numberOfgridcell, densityInagrid):\n",
    "\n",
    "    Nx = numberOfgridcell+1\n",
    "    Ddiag = -4 * np.eye(Nx - 1)\n",
    "    Dupper = np.diag([1] * (Nx - 2), 1)\n",
    "    Dlower = np.diag([1] * (Nx - 2), -1)\n",
    "    D = Ddiag + Dupper + Dlower\n",
    "    Ds = [D] * (Nx - 1)\n",
    "    A = block_diag(*Ds)\n",
    "    I = np.ones((Nx - 1) * (Nx - 2))\n",
    "    Iupper = np.diag(I, Nx - 1)\n",
    "    Ilower = np.diag(I, -Nx + 1)\n",
    "    A += Iupper + Ilower\n",
    "    B = densityInagrid.flatten()\n",
    "\n",
    "    phi = np.linalg.solve(A, B)\n",
    "\n",
    "    updateedPhi = np.zeros((numberOfgridcell+2, numberOfgridcell+2))\n",
    "    for i in range(numberOfgridcell):\n",
    "        for j in range(numberOfgridcell):\n",
    "            updateedPhi[i+1, j+1] = phi[i, j]\n",
    "            \n",
    "    return updateedPhi"
   ]
  },
  {
   "cell_type": "code",
   "execution_count": null,
   "metadata": {},
   "outputs": [],
   "source": [
    "def elctricfieldsolver(numberOfgridcell, phi):\n",
    "    electricFieldoverGridx = np.zeros((numberOfgridcell+2, numberOfgridcell+2))\n",
    "    for i in range(numberOfgridcell+2):\n",
    "        for j in range(numberOfgridcell+1):\n",
    "            electricFieldoverGridx[i, j] = (\n",
    "                phi[i, j+1] - phi[i, j])\n",
    "\n",
    "\n",
    "    electricFieldoverGridy = np.zeros((numberOfgridcell+2, numberOfgridcell+2))\n",
    "    for i in range(numberOfgridcell+1):\n",
    "        for j in range(numberOfgridcell+2):\n",
    "            electricFieldoverGridy[i, j] = (\n",
    "                phi[i+1, j] - phi[i, j])\n",
    "    return electricFieldoverGridx, electricFieldoverGridy"
   ]
  },
  {
   "cell_type": "code",
   "execution_count": null,
   "metadata": {},
   "outputs": [],
   "source": []
  },
  {
   "cell_type": "code",
   "execution_count": 7,
   "metadata": {},
   "outputs": [
    {
     "ename": "TypeError",
     "evalue": "densityinaGrid() missing 2 required positional arguments: 'numberOfparticles' and 'numberOfgridcell'",
     "output_type": "error",
     "traceback": [
      "\u001b[0;31m---------------------------------------------------------------------------\u001b[0m",
      "\u001b[0;31mTypeError\u001b[0m                                 Traceback (most recent call last)",
      "\u001b[1;32m/home/avinash/Desktop/M.Sc Thesis/fieldSolver.ipynb Cell 7\u001b[0m in \u001b[0;36m<cell line: 2>\u001b[0;34m()\u001b[0m\n\u001b[1;32m      <a href='vscode-notebook-cell:/home/avinash/Desktop/M.Sc%20Thesis/fieldSolver.ipynb#W6sZmlsZQ%3D%3D?line=0'>1</a>\u001b[0m particlePositionandCherge \u001b[39m=\u001b[39m InitialparticleDistribution(numberOfparticles,chargeOnParticle, gridSize, numberOfgridcell)\n\u001b[0;32m----> <a href='vscode-notebook-cell:/home/avinash/Desktop/M.Sc%20Thesis/fieldSolver.ipynb#W6sZmlsZQ%3D%3D?line=1'>2</a>\u001b[0m densityInagrid \u001b[39m=\u001b[39m densityinaGrid(particlePositionandCherge)\n",
      "\u001b[0;31mTypeError\u001b[0m: densityinaGrid() missing 2 required positional arguments: 'numberOfparticles' and 'numberOfgridcell'"
     ]
    }
   ],
   "source": [
    "# particlePositionandCherge = InitialparticleDistribution(numberOfparticles,chargeOnParticle, gridSize, numberOfgridcell)\n",
    "# densityInagrid = densityinaGrid(particlePositionandCherge)"
   ]
  },
  {
   "cell_type": "code",
   "execution_count": null,
   "metadata": {},
   "outputs": [
    {
     "data": {
      "text/plain": [
       "array([[1., 1.],\n",
       "       [2., 1.]])"
      ]
     },
     "execution_count": 95,
     "metadata": {},
     "output_type": "execute_result"
    }
   ],
   "source": []
  },
  {
   "cell_type": "code",
   "execution_count": null,
   "metadata": {},
   "outputs": [
    {
     "ename": "ValueError",
     "evalue": "high <= 0",
     "output_type": "error",
     "traceback": [
      "\u001b[0;31m---------------------------------------------------------------------------\u001b[0m",
      "\u001b[0;31mValueError\u001b[0m                                Traceback (most recent call last)",
      "\u001b[1;32m/home/avinash/Desktop/M.Sc Thesis/fieldSolver.ipynb Cell 6\u001b[0m in \u001b[0;36m<cell line: 1>\u001b[0;34m()\u001b[0m\n\u001b[0;32m----> <a href='vscode-notebook-cell:/home/avinash/Desktop/M.Sc%20Thesis/fieldSolver.ipynb#ch0000005?line=0'>1</a>\u001b[0m np\u001b[39m.\u001b[39;49mrandom\u001b[39m.\u001b[39;49mrandint((\u001b[39m-\u001b[39;49m\u001b[39m1\u001b[39;49m,\u001b[39m1\u001b[39;49m))\n",
      "File \u001b[0;32mmtrand.pyx:748\u001b[0m, in \u001b[0;36mnumpy.random.mtrand.RandomState.randint\u001b[0;34m()\u001b[0m\n",
      "File \u001b[0;32m_bounded_integers.pyx:1262\u001b[0m, in \u001b[0;36mnumpy.random._bounded_integers._rand_int64\u001b[0;34m()\u001b[0m\n",
      "File \u001b[0;32m_bounded_integers.pyx:686\u001b[0m, in \u001b[0;36mnumpy.random._bounded_integers._rand_int64_broadcast\u001b[0;34m()\u001b[0m\n",
      "\u001b[0;31mValueError\u001b[0m: high <= 0"
     ]
    }
   ],
   "source": [
    "np.random.randint"
   ]
  },
  {
   "cell_type": "code",
   "execution_count": 9,
   "metadata": {},
   "outputs": [],
   "source": [
    "class math:\n",
    "    def __init__(self, ans):\n",
    "        self.ans = ans\n",
    "    def sum():\n",
    "        ans = 1+5\n",
    "        return ans"
   ]
  },
  {
   "cell_type": "code",
   "execution_count": 11,
   "metadata": {},
   "outputs": [],
   "source": []
  }
 ],
 "metadata": {
  "kernelspec": {
   "display_name": "Python 3.10.4 64-bit",
   "language": "python",
   "name": "python3"
  },
  "language_info": {
   "codemirror_mode": {
    "name": "ipython",
    "version": 3
   },
   "file_extension": ".py",
   "mimetype": "text/x-python",
   "name": "python",
   "nbconvert_exporter": "python",
   "pygments_lexer": "ipython3",
   "version": "3.10.4"
  },
  "orig_nbformat": 4,
  "vscode": {
   "interpreter": {
    "hash": "916dbcbb3f70747c44a77c7bcd40155683ae19c65e1c03b4aa3499c5328201f1"
   }
  }
 },
 "nbformat": 4,
 "nbformat_minor": 2
}
